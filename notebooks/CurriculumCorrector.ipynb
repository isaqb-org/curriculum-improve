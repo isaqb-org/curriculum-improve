{
 "cells": [
  {
   "cell_type": "markdown",
   "id": "f2ced1b6",
   "metadata": {},
   "source": [
    "# Translation Corrector\n",
    "\n",
    "## About\n",
    "This notebook validates the the German and English translations.\n",
    "\n",
    "There are two phases:\n",
    "\n",
    "- the first phase just checks the structural aspects of the AsciiDoc files. It makes life so easier if there are the same amount of text lines and blank lines for each language section. The result are hint where the structure of one translation doesn't match the other.\n",
    "- the second phase checks for content and differences between the translations. The result is a assessment sheet as well as merge files that include corrections. Note that this makes only sense to use if the files are structural identical because the translation checks on a line-by-line basis."
   ]
  },
  {
   "cell_type": "markdown",
   "id": "c1e626e1",
   "metadata": {},
   "source": [
    "## Prerequisites\n"
   ]
  },
  {
   "cell_type": "markdown",
   "id": "0e47cbfb",
   "metadata": {},
   "source": [
    "### Set up OpenAI\n",
    "This cell configures OpenAI's ChatGPT. The very important part is the structured response format of the request to ChatGPT.\n",
    "\n",
    "There is also a separate file written just in case of failures of the calls to OpenAI. Technically, you could read in this file and work with it afterwards."
   ]
  },
  {
   "cell_type": "code",
   "execution_count": 21,
   "id": "91c7aa2e",
   "metadata": {},
   "outputs": [],
   "source": [
    "import pandas as pd\n",
    "from openai import OpenAI\n",
    "from tqdm.notebook import tqdm\n",
    "import os\n",
    "import csv\n",
    "import json\n",
    "from datetime import datetime\n",
    "\n",
    "# set the role of the LLM\n",
    "ai_system = \"\"\"\n",
    "You are a translator for iSAQB curricula between German and English.\n",
    "Your task is to identify translation errors and inconsistencies between translations.\"\n",
    "\"\"\"\n",
    "\n",
    "# define the schema and format including what we expect from the LLM's result\n",
    "response_json_format = {\n",
    "    \"type\": \"json_schema\",\n",
    "    \"json_schema\": {\n",
    "        \"name\": \"result\",\n",
    "        \"schema\": {\n",
    "            \"type\": \"object\",\n",
    "            \"properties\": {\n",
    "                \"correctness\": {\n",
    "                    \"type\": \"number\",\n",
    "                    \"description\" : \"a value between 0 and 1 that indicates how well the two texts fit together\"},\n",
    "                \"assessment\": {\n",
    "                    \"type\": \"string\",\n",
    "                    \"description\" : \"a brief assessment of how good the translation into English is\"},\n",
    "                \"corrected_text_de\": {\n",
    "                    \"type\": \"string\",\n",
    "                    \"description\" : \"an improved translation of the German text\"},\n",
    "                \"corrected_text_en\": {\n",
    "                        \"type\": \"string\",\n",
    "                        \"description\": \"an improved translation of the English text\"}\n",
    "            },\n",
    "            \"required\": [\"correctness\", \"assessment\", \"corrected_text_de\", \"corrected_text_en\"],\n",
    "            \"additionalProperties\": False\n",
    "        },\n",
    "        \"strict\": True\n",
    "    }\n",
    "}\n",
    "\n",
    "openai_client = OpenAI(\n",
    "   api_key = os.environ[\"OPENAI_API_KEY\"]\n",
    ")\n",
    "\n",
    "# the magic function that does all the work for us!\n",
    "def correct_translation(content):\n",
    "\n",
    "    messages=[\n",
    "        {\"role\": \"system\", \"content\": ai_system},\n",
    "        {\"role\": \"user\", \"content\": content}\n",
    "    ]\n",
    "\n",
    "    completion = openai_client.chat.completions.create(\n",
    "        model=\"gpt-4o-mini\",\n",
    "        messages = messages,\n",
    "        response_format = response_json_format,\n",
    "        temperature = 0,\n",
    "        n=1)\n",
    "\n",
    "    return completion.choices[0]\n",
    "\n",
    "\n",
    "def check_translations(df, column_DE=\"text_DE\", column_EN=\"text_EN\", cache_filepath=\"llm_results.csv\"):\n",
    "\n",
    "    timestamp = datetime.now().strftime(\"%Y%m%d%H%M%S\")\n",
    "    temp_filepath = f\"temp/{timestamp}_{cache_filepath}\"\n",
    "    # Clear the file by opening it in write mode initially\n",
    "    with open(temp_filepath, 'w') as csv_file:\n",
    "        pass  # This clears the file\n",
    "\n",
    "    results = []\n",
    "\n",
    "    # Open the CSV file in append mode\n",
    "    with open(temp_filepath, 'a', newline='') as file:\n",
    "        \n",
    "        csv_file = csv.writer(file)\n",
    "        csv_file.writerow([\"correctness\", \"assessment\", \"corrected_text_de\", \"corrected_text_en\"])\n",
    "\n",
    "        for i, r in tqdm(df.iterrows(), total=len(df), desc=\"Checking translations\"):\n",
    "            try:\n",
    "                # Define the prompt for the LLM\n",
    "                prompt = f\"\"\"\n",
    "                Here is the German and English translation: \n",
    "\n",
    "                German text:\n",
    "\n",
    "                {r[column_DE]}\n",
    "\n",
    "                English text:\n",
    "\n",
    "                {r[column_EN]}\n",
    "\n",
    "                Keep the AsciiDoc formatting as it is. Give also hints and corrections if there are differences between the German formatting and the English formatting.\n",
    "\n",
    "                Return a result in the defined JSON schema.\n",
    "                \"\"\"\n",
    "\n",
    "                # Call the translation correction function\n",
    "                result = correct_translation(prompt)\n",
    "\n",
    "                # Convert the result to a Python dictionary\n",
    "                result_dict = json.loads(result.message.content)\n",
    "\n",
    "                # Append the result to the result list\n",
    "                results.append(result_dict)\n",
    "\n",
    "                # Append the result to the CSV file\n",
    "                csv_file.writerow([\n",
    "                    result_dict['correctness'],\n",
    "                    result_dict['assessment'],\n",
    "                    result_dict['corrected_text_de'],\n",
    "                    result_dict['corrected_text_en']]\n",
    "                    )\n",
    "\n",
    "                # Optional: Immediately flush the file to ensure the result is written\n",
    "                file.flush()\n",
    "\n",
    "            except Exception as e:\n",
    "                # Log the error and continue with the next row\n",
    "                print(f\"Error occurred on row {i}: {str(e)}\")\n",
    "\n",
    "    return df.join(pd.DataFrame.from_dict(results))"
   ]
  },
  {
   "cell_type": "markdown",
   "id": "4eceda3d",
   "metadata": {},
   "source": [
    "### Helper function: show output as HTML\n",
    "\n",
    "This function used mostly at the end of a cell will render the later included links accordingly. But is can also called within a cell in between if needed.\n"
   ]
  },
  {
   "cell_type": "code",
   "execution_count": null,
   "id": "fbd1f02a",
   "metadata": {},
   "outputs": [],
   "source": [
    "from IPython.display import display, HTML\n",
    "\n",
    "def show(df):\n",
    "    return display(HTML(df.to_html(escape=False)))"
   ]
  },
  {
   "cell_type": "markdown",
   "id": "d6ac591f",
   "metadata": {},
   "source": [
    "### Helper function: show errors\n",
    "\n",
    "All the follwing checks work the same: They try to find errors in the documents.If there are errors, an non empty DataFrame is the result. Thus by purley checking for the length of a validation result, we can show a non-breaking red error message."
   ]
  },
  {
   "cell_type": "code",
   "execution_count": 125,
   "id": "9db62c58",
   "metadata": {},
   "outputs": [],
   "source": [
    "from IPython.display import display, HTML\n",
    "\n",
    "def check(result, error_message=\"unknown\"):\n",
    "    if not len(result) == 0:\n",
    "        display(HTML(f'<h2><span style=\"color: red;\">ERROR: {error_message}</h2></b>'))\n",
    "        show(result)\n",
    "    else:\n",
    "        display(HTML(f'<span style=\"color: green;\">OK</span>'))"
   ]
  },
  {
   "cell_type": "markdown",
   "id": "b0c6b5d0",
   "metadata": {},
   "source": [
    "## Data input"
   ]
  },
  {
   "cell_type": "markdown",
   "id": "00b3a6cc",
   "metadata": {},
   "source": [
    "### Import docs into a pandas DataFrames"
   ]
  },
  {
   "cell_type": "code",
   "execution_count": 139,
   "id": "81a7414c",
   "metadata": {},
   "outputs": [
    {
     "name": "stdout",
     "output_type": "stream",
     "text": [
      "28 files (re-)loaded.\n"
     ]
    },
    {
     "data": {
      "text/html": [
       "<table border=\"1\" class=\"dataframe\">\n",
       "  <thead>\n",
       "    <tr style=\"text-align: right;\">\n",
       "      <th></th>\n",
       "      <th>filename</th>\n",
       "      <th>text_DE</th>\n",
       "      <th>line_DE</th>\n",
       "      <th>link_DE</th>\n",
       "      <th>text_EN</th>\n",
       "      <th>line_EN</th>\n",
       "      <th>link_EN</th>\n",
       "    </tr>\n",
       "  </thead>\n",
       "  <tbody>\n",
       "    <tr>\n",
       "      <th>0</th>\n",
       "      <td>../docs\\00a-preamble\\01-what-to-expect-of-an-advanced-level-module.adoc</td>\n",
       "      <td>// tag::DE[]</td>\n",
       "      <td>1</td>\n",
       "      <td><a href=\"vscode://file/c:\\dev\\repos\\curriculum-improve\\docs\\00a-preamble\\01-what-to-expect-of-an-advanced-level-module.adoc:1.0\">1.0</a></td>\n",
       "      <td>// tag::EN[]</td>\n",
       "      <td>10.0</td>\n",
       "      <td><a href=\"vscode://file/c:\\dev\\repos\\curriculum-improve\\docs\\00a-preamble\\01-what-to-expect-of-an-advanced-level-module.adoc:10.0\">10.0</a></td>\n",
       "    </tr>\n",
       "    <tr>\n",
       "      <th>1</th>\n",
       "      <td>../docs\\00a-preamble\\01-what-to-expect-of-an-advanced-level-module.adoc</td>\n",
       "      <td>=== Was vermittelt ein Advanced Level Modul?</td>\n",
       "      <td>2</td>\n",
       "      <td><a href=\"vscode://file/c:\\dev\\repos\\curriculum-improve\\docs\\00a-preamble\\01-what-to-expect-of-an-advanced-level-module.adoc:2.0\">2.0</a></td>\n",
       "      <td>=== What is taught in an Advanced Level module?</td>\n",
       "      <td>11.0</td>\n",
       "      <td><a href=\"vscode://file/c:\\dev\\repos\\curriculum-improve\\docs\\00a-preamble\\01-what-to-expect-of-an-advanced-level-module.adoc:11.0\">11.0</a></td>\n",
       "    </tr>\n",
       "    <tr>\n",
       "      <th>2</th>\n",
       "      <td>../docs\\00a-preamble\\01-what-to-expect-of-an-advanced-level-module.adoc</td>\n",
       "      <td>NaN</td>\n",
       "      <td>3</td>\n",
       "      <td><a href=\"vscode://file/c:\\dev\\repos\\curriculum-improve\\docs\\00a-preamble\\01-what-to-expect-of-an-advanced-level-module.adoc:3.0\">3.0</a></td>\n",
       "      <td>NaN</td>\n",
       "      <td>12.0</td>\n",
       "      <td><a href=\"vscode://file/c:\\dev\\repos\\curriculum-improve\\docs\\00a-preamble\\01-what-to-expect-of-an-advanced-level-module.adoc:12.0\">12.0</a></td>\n",
       "    </tr>\n",
       "    <tr>\n",
       "      <th>3</th>\n",
       "      <td>../docs\\00a-preamble\\01-what-to-expect-of-an-advanced-level-module.adoc</td>\n",
       "      <td>Das Modul kann unabhängig von einer CPSA-F-Zertifizierung besucht werden.</td>\n",
       "      <td>4</td>\n",
       "      <td><a href=\"vscode://file/c:\\dev\\repos\\curriculum-improve\\docs\\00a-preamble\\01-what-to-expect-of-an-advanced-level-module.adoc:4.0\">4.0</a></td>\n",
       "      <td>The module can be attended independently of a CPSA-F certification.</td>\n",
       "      <td>13.0</td>\n",
       "      <td><a href=\"vscode://file/c:\\dev\\repos\\curriculum-improve\\docs\\00a-preamble\\01-what-to-expect-of-an-advanced-level-module.adoc:13.0\">13.0</a></td>\n",
       "    </tr>\n",
       "    <tr>\n",
       "      <th>4</th>\n",
       "      <td>../docs\\00a-preamble\\01-what-to-expect-of-an-advanced-level-module.adoc</td>\n",
       "      <td>NaN</td>\n",
       "      <td>5</td>\n",
       "      <td><a href=\"vscode://file/c:\\dev\\repos\\curriculum-improve\\docs\\00a-preamble\\01-what-to-expect-of-an-advanced-level-module.adoc:5.0\">5.0</a></td>\n",
       "      <td>NaN</td>\n",
       "      <td>14.0</td>\n",
       "      <td><a href=\"vscode://file/c:\\dev\\repos\\curriculum-improve\\docs\\00a-preamble\\01-what-to-expect-of-an-advanced-level-module.adoc:14.0\">14.0</a></td>\n",
       "    </tr>\n",
       "  </tbody>\n",
       "</table>"
      ],
      "text/plain": [
       "<IPython.core.display.HTML object>"
      ]
     },
     "metadata": {},
     "output_type": "display_data"
    }
   ],
   "source": [
    "import glob\n",
    "\n",
    "structural_df = None\n",
    "\n",
    "def load_files():\n",
    "\n",
    "    global structural_df \n",
    "    \n",
    "    # get all relevant AsciiDoc files\n",
    "    all_adoc_files = glob.glob('../docs/[0-9]*/*.adoc', recursive=True)\n",
    "\n",
    "    # filter out\n",
    "    # - \"00-introduction\" because they are just the files for combining AsciiDoc files\n",
    "    # - the reference list with books where translation validation makes no sense\n",
    "    file_list = [f for f in all_adoc_files if not f.endswith('00-introduction.adoc') and not f.endswith('00-references.adoc')]\n",
    "\n",
    "    print(f\"{len(file_list)} files (re-)loaded.\")\n",
    "    file_list[:5] # just show first 5 items to not clutter the notebook with too much text\n",
    "\n",
    "    df_list = []\n",
    "\n",
    "    # make a Dataframe for each file\n",
    "    for file in file_list:\n",
    "\n",
    "        # read in the AsciiDoc file, keep the blank lines for the line numbers\n",
    "        df = pd.read_csv(file, names=['text'], sep=\"\\r\", skip_blank_lines=False, )\n",
    "\n",
    "        # add file name as first column\n",
    "        df.insert(0,'filename',file)\n",
    "\n",
    "        # Mark the rows with language tags\n",
    "        df.loc[df['text'] == '// tag::DE[]', 'lang'] = 'DE'\n",
    "        df.loc[df['text'] == '// tag::EN[]', 'lang'] = 'EN'\n",
    "\n",
    "        # Forward fill the 'lang' column to propagate the tags to the subsequent rows\n",
    "        df['lang'] = df['lang'].ffill()\n",
    "\n",
    "        # add line numbers in file\n",
    "        df['line'] = df.index + 1\n",
    "\n",
    "        df_de = df[df['lang'] == 'DE'].reset_index(drop=True)\n",
    "        df_en = df[df['lang'] == 'EN'].reset_index(drop=True)\n",
    "        \n",
    "        # Create Side-by-Side (sbs) Dataframe\n",
    "        sbs_df = df_de[['filename', 'text', 'line']].join(df_en[['text', 'line']], lsuffix=\"_DE\", rsuffix=\"_EN\")\n",
    "\n",
    "        # Enrich Dataframe with direct links into file in VS Code via HTML\n",
    "        # Maybe the `replace` at the end needs to be adjusted to whatever IDE and operating system you have, but the default should work fine for most environments\n",
    "        urls_DE = sbs_df.apply(lambda x: f\"<a href=\\\"vscode://file/{os.path.abspath(x['filename'])}:{float(x['line_DE'])}\\\">{float(x['line_DE'])}</a>\".replace(\"/mnt/c/\", \"C:/\"), axis=1).apply(lambda x: f\"{x}\")\n",
    "        urls_EN = sbs_df.apply(lambda x: f\"<a href=\\\"vscode://file/{os.path.abspath(x['filename'])}:{float(x['line_EN'])}\\\">{float(x['line_EN'])}</a>\".replace(\"/mnt/c/\", \"C:/\"), axis=1).apply(lambda x: f\"{x}\")\n",
    "        sbs_df.insert(sbs_df.columns.get_loc('line_DE') + 1, 'link_DE', urls_DE)\n",
    "        sbs_df.insert(sbs_df.columns.get_loc('line_EN') + 1, 'link_EN', urls_EN)\n",
    "\n",
    "        df_list.append(sbs_df)\n",
    "\n",
    "        structural_df = pd.concat(df_list, ignore_index=True)\n",
    "\n",
    "\n",
    "load_files()\n",
    "\n",
    "show(structural_df.head())"
   ]
  },
  {
   "cell_type": "markdown",
   "id": "bc792f14",
   "metadata": {},
   "source": [
    "## Learning Goals Check"
   ]
  },
  {
   "cell_type": "markdown",
   "id": "29d2370c",
   "metadata": {},
   "source": [
    "### Learning Goals"
   ]
  },
  {
   "cell_type": "code",
   "execution_count": 128,
   "id": "6093aa3f",
   "metadata": {},
   "outputs": [
    {
     "data": {
      "text/html": [
       "<div>\n",
       "<style scoped>\n",
       "    .dataframe tbody tr th:only-of-type {\n",
       "        vertical-align: middle;\n",
       "    }\n",
       "\n",
       "    .dataframe tbody tr th {\n",
       "        vertical-align: top;\n",
       "    }\n",
       "\n",
       "    .dataframe thead th {\n",
       "        text-align: right;\n",
       "    }\n",
       "</style>\n",
       "<table border=\"1\" class=\"dataframe\">\n",
       "  <thead>\n",
       "    <tr style=\"text-align: right;\">\n",
       "      <th></th>\n",
       "      <th>text_DE</th>\n",
       "      <th>main_section_DE</th>\n",
       "      <th>sub_section_DE</th>\n",
       "      <th>pure_text_DE</th>\n",
       "      <th>main_section_ref_DE</th>\n",
       "      <th>sub_section_ref_DE</th>\n",
       "      <th>text_EN</th>\n",
       "      <th>main_section_EN</th>\n",
       "      <th>sub_section_EN</th>\n",
       "      <th>pure_text_EN</th>\n",
       "      <th>main_section_ref_EN</th>\n",
       "      <th>sub_section_ref_EN</th>\n",
       "    </tr>\n",
       "  </thead>\n",
       "  <tbody>\n",
       "    <tr>\n",
       "      <th>0</th>\n",
       "      <td>LZ 1-1: Gründe für Veränderungen an Software</td>\n",
       "      <td>1</td>\n",
       "      <td>1</td>\n",
       "      <td>Gründe für Veränderungen an Software</td>\n",
       "      <td>1</td>\n",
       "      <td>1</td>\n",
       "      <td>LG 1-1: Reasons for software changes</td>\n",
       "      <td>1</td>\n",
       "      <td>1</td>\n",
       "      <td>Reasons for software changes</td>\n",
       "      <td>1</td>\n",
       "      <td>1</td>\n",
       "    </tr>\n",
       "  </tbody>\n",
       "</table>\n",
       "</div>"
      ],
      "text/plain": [
       "                                        text_DE main_section_DE  \\\n",
       "0  LZ 1-1: Gründe für Veränderungen an Software               1   \n",
       "\n",
       "  sub_section_DE                           pure_text_DE main_section_ref_DE  \\\n",
       "0              1   Gründe für Veränderungen an Software                   1   \n",
       "\n",
       "  sub_section_ref_DE                               text_EN main_section_EN  \\\n",
       "0                  1  LG 1-1: Reasons for software changes               1   \n",
       "\n",
       "  sub_section_EN                   pure_text_EN main_section_ref_EN  \\\n",
       "0              1   Reasons for software changes                   1   \n",
       "\n",
       "  sub_section_ref_EN  \n",
       "0                  1  "
      ]
     },
     "execution_count": 128,
     "metadata": {},
     "output_type": "execute_result"
    }
   ],
   "source": [
    "def get_learning_goals(df, column_name, lg_name):\n",
    "\n",
    "    lang = column_name.split(\"_\")[-1]\n",
    " \n",
    "    lg_filter = df[column_name].fillna('').str.startswith(f\"==== {lg_name}\")\n",
    "    lgs = df[lg_filter][[column_name]]\n",
    "\n",
    "    lgs[column_name] = lgs[column_name].str.replace(\"==== \",\"\").str.replace(\"\\ \\[.*\\]\" , \"\", regex=True)\n",
    "\n",
    "    lgs[[f'main_section_{lang}', f'sub_section_{lang}', f'pure_text_{lang}']] = \\\n",
    "        lgs[column_name].str.extract(f\"{lg_name} ([0-9]*)-([0-9]*)\\:(.*)\")\n",
    "    \n",
    "    lgs[[f'main_section_ref_{lang}', f'sub_section_ref_{lang}']] = \\\n",
    "        df[column_name].shift()[lg_filter].str.extract(f\"{lg_name}-([0-9]*)-([0-9]*)\")\n",
    "\n",
    "    \n",
    "    return lgs.reset_index(drop=True)\n",
    "\n",
    "lgs_DE = get_learning_goals(structural_df, 'text_DE', 'LZ')\n",
    "lgs_EN = get_learning_goals(structural_df, 'text_EN', 'LG')\n",
    "\n",
    "lgs = lgs_DE.join(lgs_EN, how=\"outer\")\n",
    "lgs.head(1)\n"
   ]
  },
  {
   "cell_type": "markdown",
   "id": "17679691",
   "metadata": {},
   "source": [
    "### Check for consistency"
   ]
  },
  {
   "cell_type": "markdown",
   "id": "9cbec7ec",
   "metadata": {},
   "source": [
    "010 check main sections numbers"
   ]
  },
  {
   "cell_type": "code",
   "execution_count": 129,
   "id": "2595250d",
   "metadata": {},
   "outputs": [
    {
     "data": {
      "text/html": [
       "<span style=\"color: green;\">OK</span>"
      ],
      "text/plain": [
       "<IPython.core.display.HTML object>"
      ]
     },
     "metadata": {},
     "output_type": "display_data"
    }
   ],
   "source": [
    "check(lgs[lgs['main_section_DE'] != lgs['main_section_EN']], \"main section numbers are different\")"
   ]
  },
  {
   "cell_type": "markdown",
   "id": "f4581c72",
   "metadata": {},
   "source": [
    "020 Check subsections numbers\n"
   ]
  },
  {
   "cell_type": "code",
   "execution_count": 130,
   "id": "76ad1eb6",
   "metadata": {},
   "outputs": [
    {
     "data": {
      "text/html": [
       "<span style=\"color: green;\">OK</span>"
      ],
      "text/plain": [
       "<IPython.core.display.HTML object>"
      ]
     },
     "metadata": {},
     "output_type": "display_data"
    }
   ],
   "source": [
    "check(lgs[lgs['sub_section_DE'] != lgs['sub_section_EN']], \"sub section numbers are different\")"
   ]
  },
  {
   "cell_type": "markdown",
   "id": "34482a0d",
   "metadata": {},
   "source": [
    "030 Check references numbers sections"
   ]
  },
  {
   "cell_type": "code",
   "execution_count": 132,
   "id": "183cbb1c",
   "metadata": {},
   "outputs": [
    {
     "data": {
      "text/html": [
       "<span style=\"color: green;\">OK</span>"
      ],
      "text/plain": [
       "<IPython.core.display.HTML object>"
      ]
     },
     "metadata": {},
     "output_type": "display_data"
    }
   ],
   "source": [
    "check(\n",
    "    lgs[\n",
    "    (lgs['main_section_DE'] != lgs['main_section_ref_DE']) |\n",
    "    (lgs['sub_section_DE'] != lgs['sub_section_ref_DE']) |\n",
    "    (lgs['main_section_EN'] != lgs['main_section_ref_EN']) |\n",
    "    (lgs['sub_section_EN'] != lgs['sub_section_ref_EN'])\n",
    "    ], \n",
    "    \"References above section numbers don't fit.\"\n",
    ")"
   ]
  },
  {
   "cell_type": "markdown",
   "id": "73c49e5c",
   "metadata": {},
   "source": [
    "040 Check for duplication\n",
    "\n"
   ]
  },
  {
   "cell_type": "code",
   "execution_count": 133,
   "id": "c427154f",
   "metadata": {},
   "outputs": [
    {
     "data": {
      "text/html": [
       "<span style=\"color: green;\">OK</span>"
      ],
      "text/plain": [
       "<IPython.core.display.HTML object>"
      ]
     },
     "metadata": {},
     "output_type": "display_data"
    }
   ],
   "source": [
    "check(\n",
    "    lgs[lgs.duplicated(keep=False, subset=[\"main_section_DE\", \"sub_section_DE\"])],\n",
    "    \"There are secions that have the same numbers at different places.\")"
   ]
  },
  {
   "cell_type": "markdown",
   "id": "0d672164",
   "metadata": {},
   "source": [
    "### Check translations"
   ]
  },
  {
   "cell_type": "code",
   "execution_count": 134,
   "id": "e57a6ad5",
   "metadata": {},
   "outputs": [
    {
     "data": {
      "application/vnd.jupyter.widget-view+json": {
       "model_id": "d32865fbaf1a4808afd6e324cb3561be",
       "version_major": 2,
       "version_minor": 0
      },
      "text/plain": [
       "Checking translations:   0%|          | 0/29 [00:00<?, ?it/s]"
      ]
     },
     "metadata": {},
     "output_type": "display_data"
    },
    {
     "data": {
      "text/html": [
       "<h2><span style=\"color: red;\">ERROR: There are some differences between the German and English translations regarding learing goals.</h2></b>"
      ],
      "text/plain": [
       "<IPython.core.display.HTML object>"
      ]
     },
     "metadata": {},
     "output_type": "display_data"
    },
    {
     "data": {
      "text/html": [
       "<table border=\"1\" class=\"dataframe\">\n",
       "  <thead>\n",
       "    <tr style=\"text-align: right;\">\n",
       "      <th></th>\n",
       "      <th>text_DE</th>\n",
       "      <th>main_section_DE</th>\n",
       "      <th>sub_section_DE</th>\n",
       "      <th>pure_text_DE</th>\n",
       "      <th>main_section_ref_DE</th>\n",
       "      <th>sub_section_ref_DE</th>\n",
       "      <th>text_EN</th>\n",
       "      <th>main_section_EN</th>\n",
       "      <th>sub_section_EN</th>\n",
       "      <th>pure_text_EN</th>\n",
       "      <th>main_section_ref_EN</th>\n",
       "      <th>sub_section_ref_EN</th>\n",
       "      <th>correctness</th>\n",
       "      <th>assessment</th>\n",
       "      <th>corrected_text_de</th>\n",
       "      <th>corrected_text_en</th>\n",
       "    </tr>\n",
       "  </thead>\n",
       "  <tbody>\n",
       "    <tr>\n",
       "      <th>2</th>\n",
       "      <td>LZ 1-3: Kernbegriffe für Softwareevolution und -änderung</td>\n",
       "      <td>1</td>\n",
       "      <td>3</td>\n",
       "      <td>Kernbegriffe für Softwareevolution und -änderung</td>\n",
       "      <td>1</td>\n",
       "      <td>3</td>\n",
       "      <td>LG 1-3: Core terms of software evolution and -change</td>\n",
       "      <td>1</td>\n",
       "      <td>3</td>\n",
       "      <td>Core terms of software evolution and -change</td>\n",
       "      <td>1</td>\n",
       "      <td>3</td>\n",
       "      <td>0.9</td>\n",
       "      <td>The translation is mostly accurate, but the use of the hyphen before 'change' is inconsistent with the German text. The term 'change' should be translated without the hyphen for better clarity.</td>\n",
       "      <td>Kernbegriffe für Softwareevolution und -änderung</td>\n",
       "      <td>Core terms of software evolution and change</td>\n",
       "    </tr>\n",
       "    <tr>\n",
       "      <th>3</th>\n",
       "      <td>LZ 1-4: Mögliche Vorgehensweisen bei Änderungen</td>\n",
       "      <td>1</td>\n",
       "      <td>4</td>\n",
       "      <td>Mögliche Vorgehensweisen bei Änderungen</td>\n",
       "      <td>1</td>\n",
       "      <td>4</td>\n",
       "      <td>LG 1-4: Possible approaches for changes</td>\n",
       "      <td>1</td>\n",
       "      <td>4</td>\n",
       "      <td>Possible approaches for changes</td>\n",
       "      <td>1</td>\n",
       "      <td>4</td>\n",
       "      <td>0.9</td>\n",
       "      <td>The translation is mostly accurate, but 'Vorgehensweisen' could be better translated as 'procedures' or 'methods' instead of 'approaches' for a more precise meaning.</td>\n",
       "      <td>Mögliche Vorgehensweisen bei Änderungen</td>\n",
       "      <td>Possible procedures for changes</td>\n",
       "    </tr>\n",
       "    <tr>\n",
       "      <th>4</th>\n",
       "      <td>LZ 2-1: Grundlagen der Analyse zur Trennung von „Problem“ und „Lösung“</td>\n",
       "      <td>2</td>\n",
       "      <td>1</td>\n",
       "      <td>Grundlagen der Analyse zur Trennung von „Problem“ und „Lösung“</td>\n",
       "      <td>2</td>\n",
       "      <td>1</td>\n",
       "      <td>LG 2-1: Basics of the analysis to distinguish “problem” from “solution”</td>\n",
       "      <td>2</td>\n",
       "      <td>1</td>\n",
       "      <td>Basics of the analysis to distinguish “problem” from “solution”</td>\n",
       "      <td>2</td>\n",
       "      <td>1</td>\n",
       "      <td>0.9</td>\n",
       "      <td>The translation is mostly accurate, but the term 'Grundlagen' could be better translated as 'Fundamentals' to convey a stronger sense of foundational principles.</td>\n",
       "      <td>Grundlagen der Analyse zur Trennung von „Problem“ und „Lösung“</td>\n",
       "      <td>Fundamentals of the analysis to distinguish “problem” from “solution”</td>\n",
       "    </tr>\n",
       "    <tr>\n",
       "      <th>5</th>\n",
       "      <td>LZ 2-2: Typische Praktiken und Methoden zur Ist-Analyse</td>\n",
       "      <td>2</td>\n",
       "      <td>2</td>\n",
       "      <td>Typische Praktiken und Methoden zur Ist-Analyse</td>\n",
       "      <td>2</td>\n",
       "      <td>2</td>\n",
       "      <td>LG 2-2: Typical practices and methods for current state analysis</td>\n",
       "      <td>2</td>\n",
       "      <td>2</td>\n",
       "      <td>Typical practices and methods for current state analysis</td>\n",
       "      <td>2</td>\n",
       "      <td>2</td>\n",
       "      <td>0.9</td>\n",
       "      <td>The translation is mostly accurate, but the term 'Ist-Analyse' is more commonly translated as 'as-is analysis' in English, which is a standard term in business analysis contexts.</td>\n",
       "      <td>Typische Praktiken und Methoden zur Ist-Analyse</td>\n",
       "      <td>Typical practices and methods for as-is analysis</td>\n",
       "    </tr>\n",
       "    <tr>\n",
       "      <th>10</th>\n",
       "      <td>LZ 2-7: Grundlegende Laufzeitanalysen</td>\n",
       "      <td>2</td>\n",
       "      <td>7</td>\n",
       "      <td>Grundlegende Laufzeitanalysen</td>\n",
       "      <td>2</td>\n",
       "      <td>7</td>\n",
       "      <td>LG 2-7: Fundamental runtime analysis</td>\n",
       "      <td>2</td>\n",
       "      <td>7</td>\n",
       "      <td>Fundamental runtime analysis</td>\n",
       "      <td>2</td>\n",
       "      <td>7</td>\n",
       "      <td>0.9</td>\n",
       "      <td>The translation is mostly accurate, but 'Grundlegende' could be better translated as 'Basic' instead of 'Fundamental' for a more precise meaning in this context.</td>\n",
       "      <td>Grundlegende Laufzeitanalysen</td>\n",
       "      <td>Basic runtime analysis</td>\n",
       "    </tr>\n",
       "    <tr>\n",
       "      <th>11</th>\n",
       "      <td>LZ 3-1: Mittels unterschiedlicher Arten betriebswirtschaftlicher Größen situativ argumentieren</td>\n",
       "      <td>3</td>\n",
       "      <td>1</td>\n",
       "      <td>Mittels unterschiedlicher Arten betriebswirtschaftlicher Größen situativ argumentieren</td>\n",
       "      <td>3</td>\n",
       "      <td>1</td>\n",
       "      <td>LG 3-1: Argue contextually using different types of business metrics</td>\n",
       "      <td>3</td>\n",
       "      <td>1</td>\n",
       "      <td>Argue contextually using different types of business metrics</td>\n",
       "      <td>3</td>\n",
       "      <td>1</td>\n",
       "      <td>0.9</td>\n",
       "      <td>The translation is mostly accurate but could be improved for clarity and precision. The term 'betriebswirtschaftlicher Größen' is more accurately translated as 'business variables' rather than 'business metrics'.</td>\n",
       "      <td>Mittels unterschiedlicher Arten betriebswirtschaftlicher Größen situativ argumentieren</td>\n",
       "      <td>Argue contextually using different types of business variables</td>\n",
       "    </tr>\n",
       "    <tr>\n",
       "      <th>13</th>\n",
       "      <td>LZ 3-3: Probleme und Lösungsansätze schätzen</td>\n",
       "      <td>3</td>\n",
       "      <td>3</td>\n",
       "      <td>Probleme und Lösungsansätze schätzen</td>\n",
       "      <td>3</td>\n",
       "      <td>3</td>\n",
       "      <td>LG 3-3: Estimate for problems and solution approaches</td>\n",
       "      <td>3</td>\n",
       "      <td>3</td>\n",
       "      <td>Estimate for problems and solution approaches</td>\n",
       "      <td>3</td>\n",
       "      <td>3</td>\n",
       "      <td>0.6</td>\n",
       "      <td>The translation is not entirely accurate. The phrase 'Estimate for problems and solution approaches' does not convey the same meaning as the German text. A more appropriate translation would focus on the act of assessing rather than estimating.</td>\n",
       "      <td>Probleme und Lösungsansätze bewerten</td>\n",
       "      <td>Assess problems and solution approaches</td>\n",
       "    </tr>\n",
       "    <tr>\n",
       "      <th>14</th>\n",
       "      <td>LZ 4-1: Bewertete Probleme und Lösungsansätze explizit darstellen</td>\n",
       "      <td>4</td>\n",
       "      <td>1</td>\n",
       "      <td>Bewertete Probleme und Lösungsansätze explizit darstellen</td>\n",
       "      <td>4</td>\n",
       "      <td>1</td>\n",
       "      <td>LG 4-1: Explicitly represent evaluated problems and solution approaches</td>\n",
       "      <td>4</td>\n",
       "      <td>1</td>\n",
       "      <td>Explicitly represent evaluated problems and solution approaches</td>\n",
       "      <td>4</td>\n",
       "      <td>1</td>\n",
       "      <td>0.9</td>\n",
       "      <td>The translation is mostly accurate, but the term 'solution approaches' could be more naturally translated as 'solutions' or 'approaches to solutions'.</td>\n",
       "      <td>Bewertete Probleme und Lösungsansätze explizit darstellen</td>\n",
       "      <td>Explicitly represent evaluated problems and solutions</td>\n",
       "    </tr>\n",
       "    <tr>\n",
       "      <th>16</th>\n",
       "      <td>LZ 4-3: Effekte von „Rewrite“ versus „kontinuierliche Verbesserung“</td>\n",
       "      <td>4</td>\n",
       "      <td>3</td>\n",
       "      <td>Effekte von „Rewrite“ versus „kontinuierliche Verbesserung“</td>\n",
       "      <td>4</td>\n",
       "      <td>3</td>\n",
       "      <td>LG 4-3: Impact of “rewrite” versus “continuous improvement”</td>\n",
       "      <td>4</td>\n",
       "      <td>3</td>\n",
       "      <td>Impact of “rewrite” versus “continuous improvement”</td>\n",
       "      <td>4</td>\n",
       "      <td>3</td>\n",
       "      <td>0.9</td>\n",
       "      <td>The translation is mostly accurate, but the term 'Effekte' could be better translated as 'Effects' instead of 'Impact' for a more precise meaning in this context.</td>\n",
       "      <td>Effekte von „Rewrite“ versus „kontinuierliche Verbesserung“</td>\n",
       "      <td>Effects of “rewrite” versus “continuous improvement”</td>\n",
       "    </tr>\n",
       "    <tr>\n",
       "      <th>17</th>\n",
       "      <td>LZ 5-1: Möglichkeiten zur Optimierung von Entwicklungsprozessen</td>\n",
       "      <td>5</td>\n",
       "      <td>1</td>\n",
       "      <td>Möglichkeiten zur Optimierung von Entwicklungsprozessen</td>\n",
       "      <td>5</td>\n",
       "      <td>1</td>\n",
       "      <td>LG 5-1: Potential approaches to optimize development processes</td>\n",
       "      <td>5</td>\n",
       "      <td>1</td>\n",
       "      <td>Potential approaches to optimize development processes</td>\n",
       "      <td>5</td>\n",
       "      <td>1</td>\n",
       "      <td>0.9</td>\n",
       "      <td>The translation is mostly accurate, but the word 'Möglichkeiten' could be better translated as 'Options' instead of 'Potential approaches' for a more direct translation.</td>\n",
       "      <td>Möglichkeiten zur Optimierung von Entwicklungsprozessen</td>\n",
       "      <td>Options for optimizing development processes</td>\n",
       "    </tr>\n",
       "    <tr>\n",
       "      <th>18</th>\n",
       "      <td>LZ 5-2: Verbesserungsmaßnahmen im Quellcode</td>\n",
       "      <td>5</td>\n",
       "      <td>2</td>\n",
       "      <td>Verbesserungsmaßnahmen im Quellcode</td>\n",
       "      <td>5</td>\n",
       "      <td>2</td>\n",
       "      <td>LG 5-2: Improvement measures for source code</td>\n",
       "      <td>5</td>\n",
       "      <td>2</td>\n",
       "      <td>Improvement measures for source code</td>\n",
       "      <td>5</td>\n",
       "      <td>2</td>\n",
       "      <td>0.9</td>\n",
       "      <td>The translation is mostly accurate, but 'Verbesserungsmaßnahmen' could be more precisely translated as 'improvement actions' or 'improvement measures' depending on the context. The term 'source code' is correctly translated.</td>\n",
       "      <td>Verbesserungsmaßnahmen im Quellcode</td>\n",
       "      <td>Improvement actions for source code</td>\n",
       "    </tr>\n",
       "    <tr>\n",
       "      <th>19</th>\n",
       "      <td>LZ 5-3: Möglichkeiten des automatisierten Tests zur Reduktion von Änderungsrisiken</td>\n",
       "      <td>5</td>\n",
       "      <td>3</td>\n",
       "      <td>Möglichkeiten des automatisierten Tests zur Reduktion von Änderungsrisiken</td>\n",
       "      <td>5</td>\n",
       "      <td>3</td>\n",
       "      <td>LG 5-3: Possible approaches for automated testing to reduce risks of change</td>\n",
       "      <td>5</td>\n",
       "      <td>3</td>\n",
       "      <td>Possible approaches for automated testing to reduce risks of change</td>\n",
       "      <td>5</td>\n",
       "      <td>3</td>\n",
       "      <td>0.9</td>\n",
       "      <td>The translation is mostly accurate but could be improved for clarity and precision. The term 'Möglichkeiten' is better translated as 'Options' rather than 'Possible approaches'.</td>\n",
       "      <td>Möglichkeiten des automatisierten Tests zur Reduktion von Änderungsrisiken</td>\n",
       "      <td>Options for automated testing to reduce risks of change</td>\n",
       "    </tr>\n",
       "    <tr>\n",
       "      <th>20</th>\n",
       "      <td>LZ 5-4: Automatisierung als Mittel zur Reduktion von Änderungsrisiken</td>\n",
       "      <td>5</td>\n",
       "      <td>4</td>\n",
       "      <td>Automatisierung als Mittel zur Reduktion von Änderungsrisiken</td>\n",
       "      <td>5</td>\n",
       "      <td>4</td>\n",
       "      <td>LG 5-4: Automation as a means of reducing risks of changes</td>\n",
       "      <td>5</td>\n",
       "      <td>4</td>\n",
       "      <td>Automation as a means of reducing risks of changes</td>\n",
       "      <td>5</td>\n",
       "      <td>4</td>\n",
       "      <td>0.9</td>\n",
       "      <td>The translation is mostly accurate, but the phrase 'risks of changes' could be more naturally phrased as 'change risks' in English.</td>\n",
       "      <td>Automatisierung als Mittel zur Reduktion von Änderungsrisiken</td>\n",
       "      <td>Automation as a means of reducing change risks</td>\n",
       "    </tr>\n",
       "    <tr>\n",
       "      <th>21</th>\n",
       "      <td>LZ 5-5: Relevante Architektur-/Entwurfs- oder Implementierungsmuster zur Reduktion von Kopplung innerhalb von Systemen</td>\n",
       "      <td>5</td>\n",
       "      <td>5</td>\n",
       "      <td>Relevante Architektur-/Entwurfs- oder Implementierungsmuster zur Reduktion von Kopplung innerhalb von Systemen</td>\n",
       "      <td>5</td>\n",
       "      <td>5</td>\n",
       "      <td>LG 5-5: Relevant architectural-/design- or implementation patterns to reduce system-internal coupling</td>\n",
       "      <td>5</td>\n",
       "      <td>5</td>\n",
       "      <td>Relevant architectural-/design- or implementation patterns to reduce system-internal coupling</td>\n",
       "      <td>5</td>\n",
       "      <td>5</td>\n",
       "      <td>0.9</td>\n",
       "      <td>The translation is mostly accurate but has minor inconsistencies in terminology and formatting.</td>\n",
       "      <td>Relevante Architektur-, Entwurfs- oder Implementierungsmuster zur Reduktion von Kopplung innerhalb von Systemen</td>\n",
       "      <td>Relevant architectural, design, or implementation patterns to reduce coupling within systems</td>\n",
       "    </tr>\n",
       "    <tr>\n",
       "      <th>23</th>\n",
       "      <td>LZ 5-7: Möglichkeiten zur Verbesserung betrieblicher Prozesse</td>\n",
       "      <td>5</td>\n",
       "      <td>7</td>\n",
       "      <td>Möglichkeiten zur Verbesserung betrieblicher Prozesse</td>\n",
       "      <td>5</td>\n",
       "      <td>7</td>\n",
       "      <td>LG 5-7: Options to improve operation processes</td>\n",
       "      <td>5</td>\n",
       "      <td>7</td>\n",
       "      <td>Options to improve operation processes</td>\n",
       "      <td>5</td>\n",
       "      <td>7</td>\n",
       "      <td>0.9</td>\n",
       "      <td>The translation is mostly accurate, but 'operation processes' should be corrected to 'operational processes' for better clarity and alignment with the original meaning.</td>\n",
       "      <td>Möglichkeiten zur Verbesserung betrieblicher Prozesse</td>\n",
       "      <td>Options to improve operational processes</td>\n",
       "    </tr>\n",
       "    <tr>\n",
       "      <th>28</th>\n",
       "      <td>LZ 6-4: Verbesserungsmaßnahmen eines realen Systems</td>\n",
       "      <td>6</td>\n",
       "      <td>4</td>\n",
       "      <td>Verbesserungsmaßnahmen eines realen Systems</td>\n",
       "      <td>6</td>\n",
       "      <td>4</td>\n",
       "      <td>LG 6-4: Improvement measures of a real-life system</td>\n",
       "      <td>6</td>\n",
       "      <td>4</td>\n",
       "      <td>Improvement measures of a real-life system</td>\n",
       "      <td>6</td>\n",
       "      <td>4</td>\n",
       "      <td>0.9</td>\n",
       "      <td>The translation is mostly accurate, but 'real-life' could be simplified to 'real' to match the German text more closely.</td>\n",
       "      <td>Verbesserungsmaßnahmen eines realen Systems</td>\n",
       "      <td>Improvement measures of a real system</td>\n",
       "    </tr>\n",
       "  </tbody>\n",
       "</table>"
      ],
      "text/plain": [
       "<IPython.core.display.HTML object>"
      ]
     },
     "metadata": {},
     "output_type": "display_data"
    }
   ],
   "source": [
    "checked_lgs = check_translations(lgs, \"pure_text_DE\", \"pure_text_EN\", \"lg_results.csv\")\n",
    "check(checked_lgs[checked_lgs['correctness'] <= 0.9], \"There are some differences between the German and English translations regarding learing goals.\")"
   ]
  },
  {
   "cell_type": "markdown",
   "id": "951cccdc",
   "metadata": {},
   "source": [
    "## Cleaning Phase I: Structural checking\n"
   ]
  },
  {
   "cell_type": "markdown",
   "id": "f62bed85",
   "metadata": {},
   "source": [
    "### Check for different blank lines\n",
    "\n",
    "Check which lines in the German version are blank but not so in the English version.\n",
    "\n",
    "You can delete the `head()` method in the line before the last line for showing all findings.\n",
    "\n",
    "Tip: Work backwards from the bottom to the top when you want to fix this manally.\n",
    "\n",
    "Pro-Tip: Introduce a automated formatting for AsciiDoc file or write a tool (if existent)"
   ]
  },
  {
   "cell_type": "code",
   "execution_count": 138,
   "id": "c1ce048b",
   "metadata": {},
   "outputs": [
    {
     "name": "stdout",
     "output_type": "stream",
     "text": [
      "28 files found.\n"
     ]
    },
    {
     "data": {
      "text/html": [
       "<span style=\"color: green;\">OK</span>"
      ],
      "text/plain": [
       "<IPython.core.display.HTML object>"
      ]
     },
     "metadata": {},
     "output_type": "display_data"
    }
   ],
   "source": [
    "load_files()\n",
    "\n",
    "# Filter rows where both text_DE and text_EN are not NaN at the same time\n",
    "blanks_df = structural_df[(structural_df['text_DE'].isna() & ~structural_df['text_EN'].isna())]\n",
    "\n",
    "# Display the filtered DataFrame\n",
    "check(blanks_df, \"Blank lines on German and English parts don't match.\")"
   ]
  },
  {
   "cell_type": "markdown",
   "id": "6c85f80e",
   "metadata": {},
   "source": [
    "### Check for wrong abbreviations"
   ]
  },
  {
   "cell_type": "code",
   "execution_count": 31,
   "id": "702c82c5",
   "metadata": {},
   "outputs": [
    {
     "data": {
      "text/html": [
       "<table border=\"1\" class=\"dataframe\">\n",
       "  <thead>\n",
       "    <tr style=\"text-align: right;\">\n",
       "      <th></th>\n",
       "      <th>filename</th>\n",
       "      <th>text_DE</th>\n",
       "      <th>line_DE</th>\n",
       "      <th>link_DE</th>\n",
       "      <th>text_EN</th>\n",
       "      <th>line_EN</th>\n",
       "      <th>link_EN</th>\n",
       "    </tr>\n",
       "  </thead>\n",
       "  <tbody>\n",
       "  </tbody>\n",
       "</table>"
      ],
      "text/plain": [
       "<IPython.core.display.HTML object>"
      ]
     },
     "metadata": {},
     "output_type": "display_data"
    }
   ],
   "source": [
    "ev_de_check = structural_df[structural_df['text_DE'].fillna('').str.contains(\"e\\.V\\.\")]\n",
    "display(HTML(ev_de_check.to_html(escape=False)))"
   ]
  },
  {
   "cell_type": "code",
   "execution_count": 32,
   "id": "06d6df66",
   "metadata": {},
   "outputs": [
    {
     "data": {
      "text/html": [
       "<table border=\"1\" class=\"dataframe\">\n",
       "  <thead>\n",
       "    <tr style=\"text-align: right;\">\n",
       "      <th></th>\n",
       "      <th>filename</th>\n",
       "      <th>text_DE</th>\n",
       "      <th>line_DE</th>\n",
       "      <th>link_DE</th>\n",
       "      <th>text_EN</th>\n",
       "      <th>line_EN</th>\n",
       "      <th>link_EN</th>\n",
       "    </tr>\n",
       "  </thead>\n",
       "  <tbody>\n",
       "  </tbody>\n",
       "</table>"
      ],
      "text/plain": [
       "<IPython.core.display.HTML object>"
      ]
     },
     "metadata": {},
     "output_type": "display_data"
    }
   ],
   "source": [
    "ev_en_check = structural_df[structural_df['text_EN'].fillna('').str.contains(\"e\\.V\\.\")]\n",
    "display(HTML(ev_en_check.to_html(escape=False)))"
   ]
  },
  {
   "cell_type": "markdown",
   "id": "421ca310",
   "metadata": {},
   "source": [
    "### Check for different amount of sentences in a line\n",
    "\n",
    "<span style=\"color:blue\">Status: doesn't work, don't know ecactly why (e.g. because of \"z. B.\" and so on... but should work in theory)</span>"
   ]
  },
  {
   "cell_type": "code",
   "execution_count": 141,
   "id": "5dd6bb46",
   "metadata": {},
   "outputs": [
    {
     "name": "stdout",
     "output_type": "stream",
     "text": [
      "253 differences regarding amount of sentences found!\n"
     ]
    }
   ],
   "source": [
    "import spacy\n",
    "from spacy.cli import download\n",
    "\n",
    "nlp_de = None\n",
    "# Download the German model\n",
    "try:\n",
    "    nlp_de = spacy.load('de_core_news_sm')\n",
    "except:\n",
    "    download(\"de_core_news_sm\")\n",
    "    nlp_de = spacy.load('de_core_news_sm')\n",
    "\n",
    "\n",
    "nlp_en = None\n",
    "# Download the English model\n",
    "try:\n",
    "    nlp_en = spacy.load('en_core_web_sm')\n",
    "except:\n",
    "    download(\"en_core_web_sm\")\n",
    "    nlp_en = spacy.load('en_core_web_sm')\n",
    "\n",
    "sentence_de_count = lambda x : len(list(nlp_de(x).sents))\n",
    "sentence_en_count = lambda x : len(list(nlp_en(x).sents))\n",
    "\n",
    "sentences_df = structural_df.copy()\n",
    "sentences_df['text_DE'] = sentences_df['text_DE'].fillna('')\n",
    "sentences_df['text_EN'] = sentences_df['text_EN'].fillna('')\n",
    "\n",
    "\n",
    "sentences_df['sentence_count_DE'] = sentences_df['text_DE'].str.replace(\"=\", \"\").apply(sentence_de_count)\n",
    "sentences_df['sentence_count_EN'] = sentences_df['text_EN'].str.replace(\"=\", \"\").apply(sentence_en_count)\n",
    "\n",
    "different_amount_of_sentences_df = sentences_df[sentences_df['sentence_count_DE'] != sentences_df['sentence_count_EN']]\n",
    "\n",
    "print(f\"{len(different_amount_of_sentences_df)} differences regarding amount of sentences found!\")\n",
    "\n",
    "\n",
    "#display(HTML(different_amount_of_sentences_df.to_html(escape=False)))"
   ]
  },
  {
   "cell_type": "markdown",
   "id": "ef1ddb01",
   "metadata": {},
   "source": [
    "### Check durations "
   ]
  },
  {
   "cell_type": "code",
   "execution_count": 185,
   "id": "68c7188a",
   "metadata": {},
   "outputs": [
    {
     "data": {
      "text/plain": [
       "6"
      ]
     },
     "execution_count": 185,
     "metadata": {},
     "output_type": "execute_result"
    }
   ],
   "source": [
    "number_of_duration_term_documents = len(structural_df[structural_df['filename'].str.contains(\"duration-terms\")]['filename'].drop_duplicates())\n",
    "number_of_duration_term_documents"
   ]
  },
  {
   "cell_type": "code",
   "execution_count": 194,
   "id": "da660f59",
   "metadata": {},
   "outputs": [
    {
     "ename": "AssertionError",
     "evalue": "Falsch formatierte Zeitangaben in DE vorhanden",
     "output_type": "error",
     "traceback": [
      "\u001b[1;31m---------------------------------------------------------------------------\u001b[0m",
      "\u001b[1;31mAssertionError\u001b[0m                            Traceback (most recent call last)",
      "Cell \u001b[1;32mIn[194], line 4\u001b[0m\n\u001b[0;32m      2\u001b[0m number_of_correct_formatted_duration_terms_DE \u001b[38;5;241m=\u001b[39m \u001b[38;5;28mlen\u001b[39m(structural_df[structural_df[\u001b[38;5;124m\"\u001b[39m\u001b[38;5;124mtext_DE\u001b[39m\u001b[38;5;124m\"\u001b[39m]\u001b[38;5;241m.\u001b[39mfillna(\u001b[38;5;124m'\u001b[39m\u001b[38;5;124m'\u001b[39m)\u001b[38;5;241m.\u001b[39mstr\u001b[38;5;241m.\u001b[39mcontains(\u001b[38;5;124mr\u001b[39m\u001b[38;5;124m\"\u001b[39m\u001b[38;5;124m\\\u001b[39m\u001b[38;5;124m| Lehre: \u001b[39m\u001b[38;5;124m\\\u001b[39m\u001b[38;5;124md\u001b[39m\u001b[38;5;124m{\u001b[39m\u001b[38;5;124m2,3} Min\u001b[39m\u001b[38;5;124m\\\u001b[39m\u001b[38;5;124m. \u001b[39m\u001b[38;5;124m\\\u001b[39m\u001b[38;5;124m| Übung: \u001b[39m\u001b[38;5;124m\\\u001b[39m\u001b[38;5;124md\u001b[39m\u001b[38;5;124m{\u001b[39m\u001b[38;5;124m2,3} Min\u001b[39m\u001b[38;5;124m\\\u001b[39m\u001b[38;5;124m.\u001b[39m\u001b[38;5;124m\"\u001b[39m)])\n\u001b[0;32m      3\u001b[0m number_of_correct_formatted_duration_terms_DE\n\u001b[1;32m----> 4\u001b[0m \u001b[38;5;28;01massert\u001b[39;00m number_of_duration_term_documents \u001b[38;5;241m==\u001b[39m number_of_correct_formatted_duration_terms_DE, \u001b[38;5;124m\"\u001b[39m\u001b[38;5;124mFalsch formatierte Zeitangaben in DE vorhanden\u001b[39m\u001b[38;5;124m\"\u001b[39m\n",
      "\u001b[1;31mAssertionError\u001b[0m: Falsch formatierte Zeitangaben in DE vorhanden"
     ]
    }
   ],
   "source": [
    "number_of_duration_term_documents = len(structural_df[structural_df['filename'].str.contains(\"duration-terms\")]['filename'].drop_duplicates())\n",
    "number_of_correct_formatted_duration_terms_DE = len(structural_df[structural_df[\"text_DE\"].fillna('').str.contains(r\"\\| Lehre: \\d{2,3} Min\\. \\| Übung: \\d{2,3} Min\\.\")])\n",
    "number_of_correct_formatted_duration_terms_DE\n",
    "assert number_of_duration_term_documents == number_of_correct_formatted_duration_terms_DE, \"Falsch formatierte Zeitangaben in DE vorhanden\""
   ]
  },
  {
   "cell_type": "code",
   "execution_count": null,
   "id": "8355b768",
   "metadata": {},
   "outputs": [],
   "source": [
    "\n",
    "assert number_of_duration_term_documents == number_of_correct_formatted_duration_terms_DE"
   ]
  },
  {
   "cell_type": "markdown",
   "id": "fd19a97a",
   "metadata": {},
   "source": [
    "Check times structure"
   ]
  },
  {
   "cell_type": "code",
   "execution_count": 163,
   "id": "9ab40e2d",
   "metadata": {},
   "outputs": [
    {
     "data": {
      "text/plain": [
       "50    False\n",
       "51    False\n",
       "54    False\n",
       "55    False\n",
       "58    False\n",
       "59    False\n",
       "62    False\n",
       "63    False\n",
       "66    False\n",
       "67    False\n",
       "70    False\n",
       "71    False\n",
       "Name: text_EN, dtype: bool"
      ]
     },
     "execution_count": 163,
     "metadata": {},
     "output_type": "execute_result"
    }
   ],
   "source": [
    "#| Lehre: 30 Min. | Übung: 75 Min.\n",
    "#| Teaching: 30 min | Practice: 75 min\n",
    "times_df[\"text_DE\"].str.contains(r\"\\| Lehre: \\d{2} Min\\. \\| Übung: \\d{2} Min\\.\")\n",
    "times_df[\"text_EN\"].str.contains(r\"\\| Teaching: \\d{2} min \\| Practice: \\d{2} min\")\n"
   ]
  },
  {
   "cell_type": "markdown",
   "id": "f6af3b3e",
   "metadata": {},
   "source": [
    "Check different times"
   ]
  },
  {
   "cell_type": "code",
   "execution_count": null,
   "id": "32e9fa9a",
   "metadata": {},
   "outputs": [],
   "source": [
    "\n",
    "times_df = structural_df[\n",
    "    (structural_df['text_DE'].str.strip().str.contains(\"^\\| [0-9]*$\")) |\n",
    "    (structural_df['text_EN'].str.strip().str.contains(\"^\\| [0-9]*$\"))\n",
    "].copy()\n",
    "\n",
    "times_df.head(1)\n",
    "\n",
    "times_df[\"times_theory_DE\"], times_df[\"times_practice_DE\"] = times_df[\"text_DE\"].str.extract(\".*([0-9]+) Min. (Lehre)([0-9]+)\")\n",
    "times_df[\"times_theory_EN\"], times_df[\"times_practice_EN\"] = times_df[\"text_EN\"].str.extract(\".*([0-9]+).*([0-9]+)\")\n",
    "\n",
    "result = times_df[\n",
    "    (times_df['times_theory_DE'] != times_df['times_theory_EN']) |\n",
    "    (times_df['times_practice_DE'] != times_df['times_practice_DE'])]\n",
    "check(result, \"There are different times in the documents.\")"
   ]
  },
  {
   "cell_type": "markdown",
   "id": "0e5bccf6",
   "metadata": {},
   "source": [
    "Calculate the complete times"
   ]
  },
  {
   "cell_type": "code",
   "execution_count": 146,
   "id": "d34a854b",
   "metadata": {},
   "outputs": [
    {
     "data": {
      "text/plain": [
       "np.int64(1150)"
      ]
     },
     "execution_count": 146,
     "metadata": {},
     "output_type": "execute_result"
    }
   ],
   "source": [
    "times_df['times_DE'].sum()"
   ]
  },
  {
   "cell_type": "markdown",
   "id": "9be5131b",
   "metadata": {},
   "source": [
    "### Check bullet-point"
   ]
  },
  {
   "cell_type": "code",
   "execution_count": 36,
   "id": "f3d10cea",
   "metadata": {},
   "outputs": [
    {
     "data": {
      "text/html": [
       "<table border=\"1\" class=\"dataframe\">\n",
       "  <thead>\n",
       "    <tr style=\"text-align: right;\">\n",
       "      <th></th>\n",
       "      <th>filename</th>\n",
       "      <th>text_DE</th>\n",
       "      <th>line_DE</th>\n",
       "      <th>link_DE</th>\n",
       "      <th>text_EN</th>\n",
       "      <th>line_EN</th>\n",
       "      <th>link_EN</th>\n",
       "      <th>indentation_DE</th>\n",
       "      <th>indentation_EN</th>\n",
       "    </tr>\n",
       "  </thead>\n",
       "  <tbody>\n",
       "    <tr>\n",
       "      <th>292</th>\n",
       "      <td>../docs\\02-analyze\\02-learning-goals.adoc</td>\n",
       "      <td>(Statische) Analyse von bestehendem Quellcode und dessen Strukturen durchführen und dokumentieren.</td>\n",
       "      <td>56</td>\n",
       "      <td><a href=\"vscode://file/c:\\dev\\repos\\curriculum-improve\\docs\\02-analyze\\02-learning-goals.adoc:56.0\">56.0</a></td>\n",
       "      <td>* Perform and document (static) analysis of existing source code and its structure.</td>\n",
       "      <td>118.0</td>\n",
       "      <td><a href=\"vscode://file/c:\\dev\\repos\\curriculum-improve\\docs\\02-analyze\\02-learning-goals.adoc:118.0\">118.0</a></td>\n",
       "      <td>NaN</td>\n",
       "      <td>0.0</td>\n",
       "    </tr>\n",
       "    <tr>\n",
       "      <th>487</th>\n",
       "      <td>../docs\\06-examples\\01-duration-terms.adoc</td>\n",
       "      <td>**Anmerkung**:</td>\n",
       "      <td>7</td>\n",
       "      <td><a href=\"vscode://file/c:\\dev\\repos\\curriculum-improve\\docs\\06-examples\\01-duration-terms.adoc:7.0\">7.0</a></td>\n",
       "      <td>NaN</td>\n",
       "      <td>25.0</td>\n",
       "      <td><a href=\"vscode://file/c:\\dev\\repos\\curriculum-improve\\docs\\06-examples\\01-duration-terms.adoc:25.0\">25.0</a></td>\n",
       "      <td>0.0</td>\n",
       "      <td>NaN</td>\n",
       "    </tr>\n",
       "  </tbody>\n",
       "</table>"
      ],
      "text/plain": [
       "<IPython.core.display.HTML object>"
      ]
     },
     "metadata": {},
     "output_type": "display_data"
    }
   ],
   "source": [
    "indentation = lambda x: len(x) - len(x.lstrip()) if isinstance(x, str) and x.lstrip().startswith(('-', '*')) else None\n",
    "\n",
    "bullets_df = structural_df.copy()\n",
    "\n",
    "\n",
    "bullets_df['indentation_DE'] = bullets_df['text_DE'].apply(indentation)\n",
    "bullets_df['indentation_EN'] = bullets_df['text_EN'].apply(indentation)\n",
    "bullets_df = bullets_df.dropna(subset=['indentation_DE', 'indentation_EN'], how='all')\n",
    "bullets_result = bullets_df[bullets_df['indentation_DE'] != bullets_df['indentation_EN']]\n",
    "show(bullets_result)"
   ]
  },
  {
   "cell_type": "markdown",
   "id": "222f5b9f",
   "metadata": {},
   "source": [
    "### Check URLs"
   ]
  },
  {
   "cell_type": "code",
   "execution_count": 37,
   "id": "b0735300",
   "metadata": {},
   "outputs": [
    {
     "data": {
      "text/html": [
       "<div>\n",
       "<style scoped>\n",
       "    .dataframe tbody tr th:only-of-type {\n",
       "        vertical-align: middle;\n",
       "    }\n",
       "\n",
       "    .dataframe tbody tr th {\n",
       "        vertical-align: top;\n",
       "    }\n",
       "\n",
       "    .dataframe thead th {\n",
       "        text-align: right;\n",
       "    }\n",
       "</style>\n",
       "<table border=\"1\" class=\"dataframe\">\n",
       "  <thead>\n",
       "    <tr style=\"text-align: right;\">\n",
       "      <th></th>\n",
       "      <th>0</th>\n",
       "      <th>url</th>\n",
       "      <th>status</th>\n",
       "    </tr>\n",
       "  </thead>\n",
       "  <tbody>\n",
       "  </tbody>\n",
       "</table>\n",
       "</div>"
      ],
      "text/plain": [
       "Empty DataFrame\n",
       "Columns: [0, url, status]\n",
       "Index: []"
      ]
     },
     "execution_count": 37,
     "metadata": {},
     "output_type": "execute_result"
    }
   ],
   "source": [
    "import requests\n",
    "\n",
    "check_url = lambda x : requests.get(x, timeout=3).status_code\n",
    "\n",
    "urls = pd.DataFrame(structural_df['text_DE'].str.extract(\"(https?://.*)\").dropna())\n",
    "urls['url'] = urls[0].str.split(\"[\").str[0].str.split(\")\").str[0]\n",
    "urls['status'] = urls['url'].apply(check_url)\n",
    "urls[urls['status'] != 200]"
   ]
  },
  {
   "cell_type": "markdown",
   "id": "9cc9811b",
   "metadata": {},
   "source": [
    "## Phase II: Translation correction"
   ]
  },
  {
   "cell_type": "markdown",
   "id": "4901ef56",
   "metadata": {},
   "source": [
    "### Prepare Dataframe\n",
    "\n",
    "An additional Dataframe based on the `structural_df`.  For this, we simplay drop all blank lines which don't need to be checked."
   ]
  },
  {
   "cell_type": "code",
   "execution_count": 84,
   "id": "a9f3ab6d",
   "metadata": {},
   "outputs": [
    {
     "data": {
      "text/html": [
       "<div>\n",
       "<style scoped>\n",
       "    .dataframe tbody tr th:only-of-type {\n",
       "        vertical-align: middle;\n",
       "    }\n",
       "\n",
       "    .dataframe tbody tr th {\n",
       "        vertical-align: top;\n",
       "    }\n",
       "\n",
       "    .dataframe thead th {\n",
       "        text-align: right;\n",
       "    }\n",
       "</style>\n",
       "<table border=\"1\" class=\"dataframe\">\n",
       "  <thead>\n",
       "    <tr style=\"text-align: right;\">\n",
       "      <th></th>\n",
       "      <th>filename</th>\n",
       "      <th>text_DE</th>\n",
       "      <th>line_DE</th>\n",
       "      <th>link_DE</th>\n",
       "      <th>text_EN</th>\n",
       "      <th>line_EN</th>\n",
       "      <th>link_EN</th>\n",
       "    </tr>\n",
       "  </thead>\n",
       "  <tbody>\n",
       "    <tr>\n",
       "      <th>0</th>\n",
       "      <td>../docs\\00a-preamble\\01-what-to-expect-of-an-a...</td>\n",
       "      <td>=== Was vermittelt ein Advanced Level Modul?</td>\n",
       "      <td>2.0</td>\n",
       "      <td>&lt;a href=\"vscode://file/c:\\dev\\repos\\curriculum...</td>\n",
       "      <td>=== What is taught in an Advanced Level module?</td>\n",
       "      <td>11.0</td>\n",
       "      <td>&lt;a href=\"vscode://file/c:\\dev\\repos\\curriculum...</td>\n",
       "    </tr>\n",
       "  </tbody>\n",
       "</table>\n",
       "</div>"
      ],
      "text/plain": [
       "                                            filename  \\\n",
       "0  ../docs\\00a-preamble\\01-what-to-expect-of-an-a...   \n",
       "\n",
       "                                        text_DE  line_DE  \\\n",
       "0  === Was vermittelt ein Advanced Level Modul?      2.0   \n",
       "\n",
       "                                             link_DE  \\\n",
       "0  <a href=\"vscode://file/c:\\dev\\repos\\curriculum...   \n",
       "\n",
       "                                           text_EN  line_EN  \\\n",
       "0  === What is taught in an Advanced Level module?     11.0   \n",
       "\n",
       "                                             link_EN  \n",
       "0  <a href=\"vscode://file/c:\\dev\\repos\\curriculum...  "
      ]
     },
     "execution_count": 84,
     "metadata": {},
     "output_type": "execute_result"
    }
   ],
   "source": [
    "import re\n",
    "\n",
    "regex_dict = {}\n",
    "regex_dict[\"meta_data\"] = \"^\\[\"\n",
    "regex_dict[\"comments\"] = \"^//\"\n",
    "regex_dict[\"table_header\"] = \"^\\|===$\"\n",
    "regex_dict[\"table_number_cells\"] = \"^\\| [0-9]*$\"\n",
    "regex_dict[\"table_emtpy_cell\"] = \"^\\|$\"\n",
    "\n",
    "regex = re.compile(r\"|\".join(regex_dict.values()))\n",
    "\n",
    "result_dfs = []\n",
    "for filename, group in structural_df.groupby('filename'):\n",
    "    # Reset index for each group to ensure correct row ordering\n",
    "    group = group.reset_index(drop=True)\n",
    "\n",
    "    # Remove NaN rows for DE section and shift the rest upwards\n",
    "    non_nan_de = group.dropna(subset=['text_DE']).reset_index(drop=True)\n",
    "    group['text_DE'], group['line_DE'] = non_nan_de['text_DE'], non_nan_de['line_DE']\n",
    "    \n",
    "    # Remove NaN rows for EN section and shift the rest upwards\n",
    "    non_nan_en = group.dropna(subset=['text_EN']).reset_index(drop=True)\n",
    "    group['text_EN'], group['line_EN'] = non_nan_en['text_EN'], non_nan_en['line_EN']\n",
    "    \n",
    "    # get rid of meta data items; we checked before if that would be a problem\n",
    "    group = group[~(\n",
    "        (group['text_DE'].str.contains(regex)) |\n",
    "       (group['text_EN'].str.contains(regex))\n",
    "    )]\n",
    "        \n",
    "    # Append the processed non NaN group to the result list (it's enough doing it via one of the lines columns)\n",
    "    result_dfs.append(group.dropna(subset=['line_DE']))\n",
    "\n",
    "# Concatenate all the processed groups back together \n",
    "translations_df = pd.concat(result_dfs, ignore_index=True)\n",
    "translations_df.head(1)"
   ]
  },
  {
   "cell_type": "markdown",
   "id": "c2e9f232",
   "metadata": {},
   "source": [
    "### Create corrected translations\n",
    "\n",
    "This is the core of this notebook. It sends the German and the English translation to ChatGPT and requests an assessment.\n",
    "\n",
    "Note: This might take very long for huge data."
   ]
  },
  {
   "cell_type": "code",
   "execution_count": 57,
   "id": "f8a6b741",
   "metadata": {},
   "outputs": [
    {
     "data": {
      "application/vnd.jupyter.widget-view+json": {
       "model_id": "b4ff494aa3e445da8d6c3b64ac1edca3",
       "version_major": 2,
       "version_minor": 0
      },
      "text/plain": [
       "Checking translations:   0%|          | 0/276 [00:00<?, ?it/s]"
      ]
     },
     "metadata": {},
     "output_type": "display_data"
    },
    {
     "ename": "KeyboardInterrupt",
     "evalue": "",
     "output_type": "error",
     "traceback": [
      "\u001b[1;31m---------------------------------------------------------------------------\u001b[0m",
      "\u001b[1;31mKeyboardInterrupt\u001b[0m                         Traceback (most recent call last)",
      "Cell \u001b[1;32mIn[57], line 1\u001b[0m\n\u001b[1;32m----> 1\u001b[0m checked_translations \u001b[38;5;241m=\u001b[39m \u001b[43mcheck_translations\u001b[49m\u001b[43m(\u001b[49m\u001b[43mtranslations_df\u001b[49m\u001b[43m,\u001b[49m\u001b[43m \u001b[49m\u001b[43mcache_filepath\u001b[49m\u001b[38;5;241;43m=\u001b[39;49m\u001b[38;5;124;43m\"\u001b[39;49m\u001b[38;5;124;43mtext_results.csv\u001b[39;49m\u001b[38;5;124;43m\"\u001b[39;49m\u001b[43m)\u001b[49m\n\u001b[0;32m      2\u001b[0m checked_translations\u001b[38;5;241m.\u001b[39mhead(\u001b[38;5;241m1\u001b[39m)\n",
      "Cell \u001b[1;32mIn[21], line 101\u001b[0m, in \u001b[0;36mcheck_translations\u001b[1;34m(df, column_DE, column_EN, cache_filepath)\u001b[0m\n\u001b[0;32m     84\u001b[0m prompt \u001b[38;5;241m=\u001b[39m \u001b[38;5;124mf\u001b[39m\u001b[38;5;124m\"\"\"\u001b[39m\n\u001b[0;32m     85\u001b[0m \u001b[38;5;124mHere is the German and English translation: \u001b[39m\n\u001b[0;32m     86\u001b[0m \n\u001b[1;32m   (...)\u001b[0m\n\u001b[0;32m     97\u001b[0m \u001b[38;5;124mReturn a result in the defined JSON schema.\u001b[39m\n\u001b[0;32m     98\u001b[0m \u001b[38;5;124m\u001b[39m\u001b[38;5;124m\"\"\"\u001b[39m\n\u001b[0;32m    100\u001b[0m \u001b[38;5;66;03m# Call the translation correction function\u001b[39;00m\n\u001b[1;32m--> 101\u001b[0m result \u001b[38;5;241m=\u001b[39m \u001b[43mcorrect_translation\u001b[49m\u001b[43m(\u001b[49m\u001b[43mprompt\u001b[49m\u001b[43m)\u001b[49m\n\u001b[0;32m    103\u001b[0m \u001b[38;5;66;03m# Convert the result to a Python dictionary\u001b[39;00m\n\u001b[0;32m    104\u001b[0m result_dict \u001b[38;5;241m=\u001b[39m json\u001b[38;5;241m.\u001b[39mloads(result\u001b[38;5;241m.\u001b[39mmessage\u001b[38;5;241m.\u001b[39mcontent)\n",
      "Cell \u001b[1;32mIn[21], line 55\u001b[0m, in \u001b[0;36mcorrect_translation\u001b[1;34m(content)\u001b[0m\n\u001b[0;32m     48\u001b[0m \u001b[38;5;28;01mdef\u001b[39;00m \u001b[38;5;21mcorrect_translation\u001b[39m(content):\n\u001b[0;32m     50\u001b[0m     messages\u001b[38;5;241m=\u001b[39m[\n\u001b[0;32m     51\u001b[0m         {\u001b[38;5;124m\"\u001b[39m\u001b[38;5;124mrole\u001b[39m\u001b[38;5;124m\"\u001b[39m: \u001b[38;5;124m\"\u001b[39m\u001b[38;5;124msystem\u001b[39m\u001b[38;5;124m\"\u001b[39m, \u001b[38;5;124m\"\u001b[39m\u001b[38;5;124mcontent\u001b[39m\u001b[38;5;124m\"\u001b[39m: ai_system},\n\u001b[0;32m     52\u001b[0m         {\u001b[38;5;124m\"\u001b[39m\u001b[38;5;124mrole\u001b[39m\u001b[38;5;124m\"\u001b[39m: \u001b[38;5;124m\"\u001b[39m\u001b[38;5;124muser\u001b[39m\u001b[38;5;124m\"\u001b[39m, \u001b[38;5;124m\"\u001b[39m\u001b[38;5;124mcontent\u001b[39m\u001b[38;5;124m\"\u001b[39m: content}\n\u001b[0;32m     53\u001b[0m     ]\n\u001b[1;32m---> 55\u001b[0m     completion \u001b[38;5;241m=\u001b[39m \u001b[43mopenai_client\u001b[49m\u001b[38;5;241;43m.\u001b[39;49m\u001b[43mchat\u001b[49m\u001b[38;5;241;43m.\u001b[39;49m\u001b[43mcompletions\u001b[49m\u001b[38;5;241;43m.\u001b[39;49m\u001b[43mcreate\u001b[49m\u001b[43m(\u001b[49m\n\u001b[0;32m     56\u001b[0m \u001b[43m        \u001b[49m\u001b[43mmodel\u001b[49m\u001b[38;5;241;43m=\u001b[39;49m\u001b[38;5;124;43m\"\u001b[39;49m\u001b[38;5;124;43mgpt-4o-mini\u001b[39;49m\u001b[38;5;124;43m\"\u001b[39;49m\u001b[43m,\u001b[49m\n\u001b[0;32m     57\u001b[0m \u001b[43m        \u001b[49m\u001b[43mmessages\u001b[49m\u001b[43m \u001b[49m\u001b[38;5;241;43m=\u001b[39;49m\u001b[43m \u001b[49m\u001b[43mmessages\u001b[49m\u001b[43m,\u001b[49m\n\u001b[0;32m     58\u001b[0m \u001b[43m        \u001b[49m\u001b[43mresponse_format\u001b[49m\u001b[43m \u001b[49m\u001b[38;5;241;43m=\u001b[39;49m\u001b[43m \u001b[49m\u001b[43mresponse_json_format\u001b[49m\u001b[43m,\u001b[49m\n\u001b[0;32m     59\u001b[0m \u001b[43m        \u001b[49m\u001b[43mtemperature\u001b[49m\u001b[43m \u001b[49m\u001b[38;5;241;43m=\u001b[39;49m\u001b[43m \u001b[49m\u001b[38;5;241;43m0\u001b[39;49m\u001b[43m,\u001b[49m\n\u001b[0;32m     60\u001b[0m \u001b[43m        \u001b[49m\u001b[43mn\u001b[49m\u001b[38;5;241;43m=\u001b[39;49m\u001b[38;5;241;43m1\u001b[39;49m\u001b[43m)\u001b[49m\n\u001b[0;32m     62\u001b[0m     \u001b[38;5;28;01mreturn\u001b[39;00m completion\u001b[38;5;241m.\u001b[39mchoices[\u001b[38;5;241m0\u001b[39m]\n",
      "File \u001b[1;32mc:\\dev\\repos\\curriculum-improve\\.conda\\Lib\\site-packages\\openai\\_utils\\_utils.py:274\u001b[0m, in \u001b[0;36mrequired_args.<locals>.inner.<locals>.wrapper\u001b[1;34m(*args, **kwargs)\u001b[0m\n\u001b[0;32m    272\u001b[0m             msg \u001b[38;5;241m=\u001b[39m \u001b[38;5;124mf\u001b[39m\u001b[38;5;124m\"\u001b[39m\u001b[38;5;124mMissing required argument: \u001b[39m\u001b[38;5;132;01m{\u001b[39;00mquote(missing[\u001b[38;5;241m0\u001b[39m])\u001b[38;5;132;01m}\u001b[39;00m\u001b[38;5;124m\"\u001b[39m\n\u001b[0;32m    273\u001b[0m     \u001b[38;5;28;01mraise\u001b[39;00m \u001b[38;5;167;01mTypeError\u001b[39;00m(msg)\n\u001b[1;32m--> 274\u001b[0m \u001b[38;5;28;01mreturn\u001b[39;00m \u001b[43mfunc\u001b[49m\u001b[43m(\u001b[49m\u001b[38;5;241;43m*\u001b[39;49m\u001b[43margs\u001b[49m\u001b[43m,\u001b[49m\u001b[43m \u001b[49m\u001b[38;5;241;43m*\u001b[39;49m\u001b[38;5;241;43m*\u001b[39;49m\u001b[43mkwargs\u001b[49m\u001b[43m)\u001b[49m\n",
      "File \u001b[1;32mc:\\dev\\repos\\curriculum-improve\\.conda\\Lib\\site-packages\\openai\\resources\\chat\\completions.py:815\u001b[0m, in \u001b[0;36mCompletions.create\u001b[1;34m(self, messages, model, audio, frequency_penalty, function_call, functions, logit_bias, logprobs, max_completion_tokens, max_tokens, metadata, modalities, n, parallel_tool_calls, presence_penalty, response_format, seed, service_tier, stop, store, stream, stream_options, temperature, tool_choice, tools, top_logprobs, top_p, user, extra_headers, extra_query, extra_body, timeout)\u001b[0m\n\u001b[0;32m    775\u001b[0m \u001b[38;5;129m@required_args\u001b[39m([\u001b[38;5;124m\"\u001b[39m\u001b[38;5;124mmessages\u001b[39m\u001b[38;5;124m\"\u001b[39m, \u001b[38;5;124m\"\u001b[39m\u001b[38;5;124mmodel\u001b[39m\u001b[38;5;124m\"\u001b[39m], [\u001b[38;5;124m\"\u001b[39m\u001b[38;5;124mmessages\u001b[39m\u001b[38;5;124m\"\u001b[39m, \u001b[38;5;124m\"\u001b[39m\u001b[38;5;124mmodel\u001b[39m\u001b[38;5;124m\"\u001b[39m, \u001b[38;5;124m\"\u001b[39m\u001b[38;5;124mstream\u001b[39m\u001b[38;5;124m\"\u001b[39m])\n\u001b[0;32m    776\u001b[0m \u001b[38;5;28;01mdef\u001b[39;00m \u001b[38;5;21mcreate\u001b[39m(\n\u001b[0;32m    777\u001b[0m     \u001b[38;5;28mself\u001b[39m,\n\u001b[1;32m   (...)\u001b[0m\n\u001b[0;32m    812\u001b[0m     timeout: \u001b[38;5;28mfloat\u001b[39m \u001b[38;5;241m|\u001b[39m httpx\u001b[38;5;241m.\u001b[39mTimeout \u001b[38;5;241m|\u001b[39m \u001b[38;5;28;01mNone\u001b[39;00m \u001b[38;5;241m|\u001b[39m NotGiven \u001b[38;5;241m=\u001b[39m NOT_GIVEN,\n\u001b[0;32m    813\u001b[0m ) \u001b[38;5;241m-\u001b[39m\u001b[38;5;241m>\u001b[39m ChatCompletion \u001b[38;5;241m|\u001b[39m Stream[ChatCompletionChunk]:\n\u001b[0;32m    814\u001b[0m     validate_response_format(response_format)\n\u001b[1;32m--> 815\u001b[0m     \u001b[38;5;28;01mreturn\u001b[39;00m \u001b[38;5;28;43mself\u001b[39;49m\u001b[38;5;241;43m.\u001b[39;49m\u001b[43m_post\u001b[49m\u001b[43m(\u001b[49m\n\u001b[0;32m    816\u001b[0m \u001b[43m        \u001b[49m\u001b[38;5;124;43m\"\u001b[39;49m\u001b[38;5;124;43m/chat/completions\u001b[39;49m\u001b[38;5;124;43m\"\u001b[39;49m\u001b[43m,\u001b[49m\n\u001b[0;32m    817\u001b[0m \u001b[43m        \u001b[49m\u001b[43mbody\u001b[49m\u001b[38;5;241;43m=\u001b[39;49m\u001b[43mmaybe_transform\u001b[49m\u001b[43m(\u001b[49m\n\u001b[0;32m    818\u001b[0m \u001b[43m            \u001b[49m\u001b[43m{\u001b[49m\n\u001b[0;32m    819\u001b[0m \u001b[43m                \u001b[49m\u001b[38;5;124;43m\"\u001b[39;49m\u001b[38;5;124;43mmessages\u001b[39;49m\u001b[38;5;124;43m\"\u001b[39;49m\u001b[43m:\u001b[49m\u001b[43m \u001b[49m\u001b[43mmessages\u001b[49m\u001b[43m,\u001b[49m\n\u001b[0;32m    820\u001b[0m \u001b[43m                \u001b[49m\u001b[38;5;124;43m\"\u001b[39;49m\u001b[38;5;124;43mmodel\u001b[39;49m\u001b[38;5;124;43m\"\u001b[39;49m\u001b[43m:\u001b[49m\u001b[43m \u001b[49m\u001b[43mmodel\u001b[49m\u001b[43m,\u001b[49m\n\u001b[0;32m    821\u001b[0m \u001b[43m                \u001b[49m\u001b[38;5;124;43m\"\u001b[39;49m\u001b[38;5;124;43maudio\u001b[39;49m\u001b[38;5;124;43m\"\u001b[39;49m\u001b[43m:\u001b[49m\u001b[43m \u001b[49m\u001b[43maudio\u001b[49m\u001b[43m,\u001b[49m\n\u001b[0;32m    822\u001b[0m \u001b[43m                \u001b[49m\u001b[38;5;124;43m\"\u001b[39;49m\u001b[38;5;124;43mfrequency_penalty\u001b[39;49m\u001b[38;5;124;43m\"\u001b[39;49m\u001b[43m:\u001b[49m\u001b[43m \u001b[49m\u001b[43mfrequency_penalty\u001b[49m\u001b[43m,\u001b[49m\n\u001b[0;32m    823\u001b[0m \u001b[43m                \u001b[49m\u001b[38;5;124;43m\"\u001b[39;49m\u001b[38;5;124;43mfunction_call\u001b[39;49m\u001b[38;5;124;43m\"\u001b[39;49m\u001b[43m:\u001b[49m\u001b[43m \u001b[49m\u001b[43mfunction_call\u001b[49m\u001b[43m,\u001b[49m\n\u001b[0;32m    824\u001b[0m \u001b[43m                \u001b[49m\u001b[38;5;124;43m\"\u001b[39;49m\u001b[38;5;124;43mfunctions\u001b[39;49m\u001b[38;5;124;43m\"\u001b[39;49m\u001b[43m:\u001b[49m\u001b[43m \u001b[49m\u001b[43mfunctions\u001b[49m\u001b[43m,\u001b[49m\n\u001b[0;32m    825\u001b[0m \u001b[43m                \u001b[49m\u001b[38;5;124;43m\"\u001b[39;49m\u001b[38;5;124;43mlogit_bias\u001b[39;49m\u001b[38;5;124;43m\"\u001b[39;49m\u001b[43m:\u001b[49m\u001b[43m \u001b[49m\u001b[43mlogit_bias\u001b[49m\u001b[43m,\u001b[49m\n\u001b[0;32m    826\u001b[0m \u001b[43m                \u001b[49m\u001b[38;5;124;43m\"\u001b[39;49m\u001b[38;5;124;43mlogprobs\u001b[39;49m\u001b[38;5;124;43m\"\u001b[39;49m\u001b[43m:\u001b[49m\u001b[43m \u001b[49m\u001b[43mlogprobs\u001b[49m\u001b[43m,\u001b[49m\n\u001b[0;32m    827\u001b[0m \u001b[43m                \u001b[49m\u001b[38;5;124;43m\"\u001b[39;49m\u001b[38;5;124;43mmax_completion_tokens\u001b[39;49m\u001b[38;5;124;43m\"\u001b[39;49m\u001b[43m:\u001b[49m\u001b[43m \u001b[49m\u001b[43mmax_completion_tokens\u001b[49m\u001b[43m,\u001b[49m\n\u001b[0;32m    828\u001b[0m \u001b[43m                \u001b[49m\u001b[38;5;124;43m\"\u001b[39;49m\u001b[38;5;124;43mmax_tokens\u001b[39;49m\u001b[38;5;124;43m\"\u001b[39;49m\u001b[43m:\u001b[49m\u001b[43m \u001b[49m\u001b[43mmax_tokens\u001b[49m\u001b[43m,\u001b[49m\n\u001b[0;32m    829\u001b[0m \u001b[43m                \u001b[49m\u001b[38;5;124;43m\"\u001b[39;49m\u001b[38;5;124;43mmetadata\u001b[39;49m\u001b[38;5;124;43m\"\u001b[39;49m\u001b[43m:\u001b[49m\u001b[43m \u001b[49m\u001b[43mmetadata\u001b[49m\u001b[43m,\u001b[49m\n\u001b[0;32m    830\u001b[0m \u001b[43m                \u001b[49m\u001b[38;5;124;43m\"\u001b[39;49m\u001b[38;5;124;43mmodalities\u001b[39;49m\u001b[38;5;124;43m\"\u001b[39;49m\u001b[43m:\u001b[49m\u001b[43m \u001b[49m\u001b[43mmodalities\u001b[49m\u001b[43m,\u001b[49m\n\u001b[0;32m    831\u001b[0m \u001b[43m                \u001b[49m\u001b[38;5;124;43m\"\u001b[39;49m\u001b[38;5;124;43mn\u001b[39;49m\u001b[38;5;124;43m\"\u001b[39;49m\u001b[43m:\u001b[49m\u001b[43m \u001b[49m\u001b[43mn\u001b[49m\u001b[43m,\u001b[49m\n\u001b[0;32m    832\u001b[0m \u001b[43m                \u001b[49m\u001b[38;5;124;43m\"\u001b[39;49m\u001b[38;5;124;43mparallel_tool_calls\u001b[39;49m\u001b[38;5;124;43m\"\u001b[39;49m\u001b[43m:\u001b[49m\u001b[43m \u001b[49m\u001b[43mparallel_tool_calls\u001b[49m\u001b[43m,\u001b[49m\n\u001b[0;32m    833\u001b[0m \u001b[43m                \u001b[49m\u001b[38;5;124;43m\"\u001b[39;49m\u001b[38;5;124;43mpresence_penalty\u001b[39;49m\u001b[38;5;124;43m\"\u001b[39;49m\u001b[43m:\u001b[49m\u001b[43m \u001b[49m\u001b[43mpresence_penalty\u001b[49m\u001b[43m,\u001b[49m\n\u001b[0;32m    834\u001b[0m \u001b[43m                \u001b[49m\u001b[38;5;124;43m\"\u001b[39;49m\u001b[38;5;124;43mresponse_format\u001b[39;49m\u001b[38;5;124;43m\"\u001b[39;49m\u001b[43m:\u001b[49m\u001b[43m \u001b[49m\u001b[43mresponse_format\u001b[49m\u001b[43m,\u001b[49m\n\u001b[0;32m    835\u001b[0m \u001b[43m                \u001b[49m\u001b[38;5;124;43m\"\u001b[39;49m\u001b[38;5;124;43mseed\u001b[39;49m\u001b[38;5;124;43m\"\u001b[39;49m\u001b[43m:\u001b[49m\u001b[43m \u001b[49m\u001b[43mseed\u001b[49m\u001b[43m,\u001b[49m\n\u001b[0;32m    836\u001b[0m \u001b[43m                \u001b[49m\u001b[38;5;124;43m\"\u001b[39;49m\u001b[38;5;124;43mservice_tier\u001b[39;49m\u001b[38;5;124;43m\"\u001b[39;49m\u001b[43m:\u001b[49m\u001b[43m \u001b[49m\u001b[43mservice_tier\u001b[49m\u001b[43m,\u001b[49m\n\u001b[0;32m    837\u001b[0m \u001b[43m                \u001b[49m\u001b[38;5;124;43m\"\u001b[39;49m\u001b[38;5;124;43mstop\u001b[39;49m\u001b[38;5;124;43m\"\u001b[39;49m\u001b[43m:\u001b[49m\u001b[43m \u001b[49m\u001b[43mstop\u001b[49m\u001b[43m,\u001b[49m\n\u001b[0;32m    838\u001b[0m \u001b[43m                \u001b[49m\u001b[38;5;124;43m\"\u001b[39;49m\u001b[38;5;124;43mstore\u001b[39;49m\u001b[38;5;124;43m\"\u001b[39;49m\u001b[43m:\u001b[49m\u001b[43m \u001b[49m\u001b[43mstore\u001b[49m\u001b[43m,\u001b[49m\n\u001b[0;32m    839\u001b[0m \u001b[43m                \u001b[49m\u001b[38;5;124;43m\"\u001b[39;49m\u001b[38;5;124;43mstream\u001b[39;49m\u001b[38;5;124;43m\"\u001b[39;49m\u001b[43m:\u001b[49m\u001b[43m \u001b[49m\u001b[43mstream\u001b[49m\u001b[43m,\u001b[49m\n\u001b[0;32m    840\u001b[0m \u001b[43m                \u001b[49m\u001b[38;5;124;43m\"\u001b[39;49m\u001b[38;5;124;43mstream_options\u001b[39;49m\u001b[38;5;124;43m\"\u001b[39;49m\u001b[43m:\u001b[49m\u001b[43m \u001b[49m\u001b[43mstream_options\u001b[49m\u001b[43m,\u001b[49m\n\u001b[0;32m    841\u001b[0m \u001b[43m                \u001b[49m\u001b[38;5;124;43m\"\u001b[39;49m\u001b[38;5;124;43mtemperature\u001b[39;49m\u001b[38;5;124;43m\"\u001b[39;49m\u001b[43m:\u001b[49m\u001b[43m \u001b[49m\u001b[43mtemperature\u001b[49m\u001b[43m,\u001b[49m\n\u001b[0;32m    842\u001b[0m \u001b[43m                \u001b[49m\u001b[38;5;124;43m\"\u001b[39;49m\u001b[38;5;124;43mtool_choice\u001b[39;49m\u001b[38;5;124;43m\"\u001b[39;49m\u001b[43m:\u001b[49m\u001b[43m \u001b[49m\u001b[43mtool_choice\u001b[49m\u001b[43m,\u001b[49m\n\u001b[0;32m    843\u001b[0m \u001b[43m                \u001b[49m\u001b[38;5;124;43m\"\u001b[39;49m\u001b[38;5;124;43mtools\u001b[39;49m\u001b[38;5;124;43m\"\u001b[39;49m\u001b[43m:\u001b[49m\u001b[43m \u001b[49m\u001b[43mtools\u001b[49m\u001b[43m,\u001b[49m\n\u001b[0;32m    844\u001b[0m \u001b[43m                \u001b[49m\u001b[38;5;124;43m\"\u001b[39;49m\u001b[38;5;124;43mtop_logprobs\u001b[39;49m\u001b[38;5;124;43m\"\u001b[39;49m\u001b[43m:\u001b[49m\u001b[43m \u001b[49m\u001b[43mtop_logprobs\u001b[49m\u001b[43m,\u001b[49m\n\u001b[0;32m    845\u001b[0m \u001b[43m                \u001b[49m\u001b[38;5;124;43m\"\u001b[39;49m\u001b[38;5;124;43mtop_p\u001b[39;49m\u001b[38;5;124;43m\"\u001b[39;49m\u001b[43m:\u001b[49m\u001b[43m \u001b[49m\u001b[43mtop_p\u001b[49m\u001b[43m,\u001b[49m\n\u001b[0;32m    846\u001b[0m \u001b[43m                \u001b[49m\u001b[38;5;124;43m\"\u001b[39;49m\u001b[38;5;124;43muser\u001b[39;49m\u001b[38;5;124;43m\"\u001b[39;49m\u001b[43m:\u001b[49m\u001b[43m \u001b[49m\u001b[43muser\u001b[49m\u001b[43m,\u001b[49m\n\u001b[0;32m    847\u001b[0m \u001b[43m            \u001b[49m\u001b[43m}\u001b[49m\u001b[43m,\u001b[49m\n\u001b[0;32m    848\u001b[0m \u001b[43m            \u001b[49m\u001b[43mcompletion_create_params\u001b[49m\u001b[38;5;241;43m.\u001b[39;49m\u001b[43mCompletionCreateParams\u001b[49m\u001b[43m,\u001b[49m\n\u001b[0;32m    849\u001b[0m \u001b[43m        \u001b[49m\u001b[43m)\u001b[49m\u001b[43m,\u001b[49m\n\u001b[0;32m    850\u001b[0m \u001b[43m        \u001b[49m\u001b[43moptions\u001b[49m\u001b[38;5;241;43m=\u001b[39;49m\u001b[43mmake_request_options\u001b[49m\u001b[43m(\u001b[49m\n\u001b[0;32m    851\u001b[0m \u001b[43m            \u001b[49m\u001b[43mextra_headers\u001b[49m\u001b[38;5;241;43m=\u001b[39;49m\u001b[43mextra_headers\u001b[49m\u001b[43m,\u001b[49m\u001b[43m \u001b[49m\u001b[43mextra_query\u001b[49m\u001b[38;5;241;43m=\u001b[39;49m\u001b[43mextra_query\u001b[49m\u001b[43m,\u001b[49m\u001b[43m \u001b[49m\u001b[43mextra_body\u001b[49m\u001b[38;5;241;43m=\u001b[39;49m\u001b[43mextra_body\u001b[49m\u001b[43m,\u001b[49m\u001b[43m \u001b[49m\u001b[43mtimeout\u001b[49m\u001b[38;5;241;43m=\u001b[39;49m\u001b[43mtimeout\u001b[49m\n\u001b[0;32m    852\u001b[0m \u001b[43m        \u001b[49m\u001b[43m)\u001b[49m\u001b[43m,\u001b[49m\n\u001b[0;32m    853\u001b[0m \u001b[43m        \u001b[49m\u001b[43mcast_to\u001b[49m\u001b[38;5;241;43m=\u001b[39;49m\u001b[43mChatCompletion\u001b[49m\u001b[43m,\u001b[49m\n\u001b[0;32m    854\u001b[0m \u001b[43m        \u001b[49m\u001b[43mstream\u001b[49m\u001b[38;5;241;43m=\u001b[39;49m\u001b[43mstream\u001b[49m\u001b[43m \u001b[49m\u001b[38;5;129;43;01mor\u001b[39;49;00m\u001b[43m \u001b[49m\u001b[38;5;28;43;01mFalse\u001b[39;49;00m\u001b[43m,\u001b[49m\n\u001b[0;32m    855\u001b[0m \u001b[43m        \u001b[49m\u001b[43mstream_cls\u001b[49m\u001b[38;5;241;43m=\u001b[39;49m\u001b[43mStream\u001b[49m\u001b[43m[\u001b[49m\u001b[43mChatCompletionChunk\u001b[49m\u001b[43m]\u001b[49m\u001b[43m,\u001b[49m\n\u001b[0;32m    856\u001b[0m \u001b[43m    \u001b[49m\u001b[43m)\u001b[49m\n",
      "File \u001b[1;32mc:\\dev\\repos\\curriculum-improve\\.conda\\Lib\\site-packages\\openai\\_base_client.py:1277\u001b[0m, in \u001b[0;36mSyncAPIClient.post\u001b[1;34m(self, path, cast_to, body, options, files, stream, stream_cls)\u001b[0m\n\u001b[0;32m   1263\u001b[0m \u001b[38;5;28;01mdef\u001b[39;00m \u001b[38;5;21mpost\u001b[39m(\n\u001b[0;32m   1264\u001b[0m     \u001b[38;5;28mself\u001b[39m,\n\u001b[0;32m   1265\u001b[0m     path: \u001b[38;5;28mstr\u001b[39m,\n\u001b[1;32m   (...)\u001b[0m\n\u001b[0;32m   1272\u001b[0m     stream_cls: \u001b[38;5;28mtype\u001b[39m[_StreamT] \u001b[38;5;241m|\u001b[39m \u001b[38;5;28;01mNone\u001b[39;00m \u001b[38;5;241m=\u001b[39m \u001b[38;5;28;01mNone\u001b[39;00m,\n\u001b[0;32m   1273\u001b[0m ) \u001b[38;5;241m-\u001b[39m\u001b[38;5;241m>\u001b[39m ResponseT \u001b[38;5;241m|\u001b[39m _StreamT:\n\u001b[0;32m   1274\u001b[0m     opts \u001b[38;5;241m=\u001b[39m FinalRequestOptions\u001b[38;5;241m.\u001b[39mconstruct(\n\u001b[0;32m   1275\u001b[0m         method\u001b[38;5;241m=\u001b[39m\u001b[38;5;124m\"\u001b[39m\u001b[38;5;124mpost\u001b[39m\u001b[38;5;124m\"\u001b[39m, url\u001b[38;5;241m=\u001b[39mpath, json_data\u001b[38;5;241m=\u001b[39mbody, files\u001b[38;5;241m=\u001b[39mto_httpx_files(files), \u001b[38;5;241m*\u001b[39m\u001b[38;5;241m*\u001b[39moptions\n\u001b[0;32m   1276\u001b[0m     )\n\u001b[1;32m-> 1277\u001b[0m     \u001b[38;5;28;01mreturn\u001b[39;00m cast(ResponseT, \u001b[38;5;28;43mself\u001b[39;49m\u001b[38;5;241;43m.\u001b[39;49m\u001b[43mrequest\u001b[49m\u001b[43m(\u001b[49m\u001b[43mcast_to\u001b[49m\u001b[43m,\u001b[49m\u001b[43m \u001b[49m\u001b[43mopts\u001b[49m\u001b[43m,\u001b[49m\u001b[43m \u001b[49m\u001b[43mstream\u001b[49m\u001b[38;5;241;43m=\u001b[39;49m\u001b[43mstream\u001b[49m\u001b[43m,\u001b[49m\u001b[43m \u001b[49m\u001b[43mstream_cls\u001b[49m\u001b[38;5;241;43m=\u001b[39;49m\u001b[43mstream_cls\u001b[49m\u001b[43m)\u001b[49m)\n",
      "File \u001b[1;32mc:\\dev\\repos\\curriculum-improve\\.conda\\Lib\\site-packages\\openai\\_base_client.py:954\u001b[0m, in \u001b[0;36mSyncAPIClient.request\u001b[1;34m(self, cast_to, options, remaining_retries, stream, stream_cls)\u001b[0m\n\u001b[0;32m    951\u001b[0m \u001b[38;5;28;01melse\u001b[39;00m:\n\u001b[0;32m    952\u001b[0m     retries_taken \u001b[38;5;241m=\u001b[39m \u001b[38;5;241m0\u001b[39m\n\u001b[1;32m--> 954\u001b[0m \u001b[38;5;28;01mreturn\u001b[39;00m \u001b[38;5;28;43mself\u001b[39;49m\u001b[38;5;241;43m.\u001b[39;49m\u001b[43m_request\u001b[49m\u001b[43m(\u001b[49m\n\u001b[0;32m    955\u001b[0m \u001b[43m    \u001b[49m\u001b[43mcast_to\u001b[49m\u001b[38;5;241;43m=\u001b[39;49m\u001b[43mcast_to\u001b[49m\u001b[43m,\u001b[49m\n\u001b[0;32m    956\u001b[0m \u001b[43m    \u001b[49m\u001b[43moptions\u001b[49m\u001b[38;5;241;43m=\u001b[39;49m\u001b[43moptions\u001b[49m\u001b[43m,\u001b[49m\n\u001b[0;32m    957\u001b[0m \u001b[43m    \u001b[49m\u001b[43mstream\u001b[49m\u001b[38;5;241;43m=\u001b[39;49m\u001b[43mstream\u001b[49m\u001b[43m,\u001b[49m\n\u001b[0;32m    958\u001b[0m \u001b[43m    \u001b[49m\u001b[43mstream_cls\u001b[49m\u001b[38;5;241;43m=\u001b[39;49m\u001b[43mstream_cls\u001b[49m\u001b[43m,\u001b[49m\n\u001b[0;32m    959\u001b[0m \u001b[43m    \u001b[49m\u001b[43mretries_taken\u001b[49m\u001b[38;5;241;43m=\u001b[39;49m\u001b[43mretries_taken\u001b[49m\u001b[43m,\u001b[49m\n\u001b[0;32m    960\u001b[0m \u001b[43m\u001b[49m\u001b[43m)\u001b[49m\n",
      "File \u001b[1;32mc:\\dev\\repos\\curriculum-improve\\.conda\\Lib\\site-packages\\openai\\_base_client.py:990\u001b[0m, in \u001b[0;36mSyncAPIClient._request\u001b[1;34m(self, cast_to, options, retries_taken, stream, stream_cls)\u001b[0m\n\u001b[0;32m    987\u001b[0m log\u001b[38;5;241m.\u001b[39mdebug(\u001b[38;5;124m\"\u001b[39m\u001b[38;5;124mSending HTTP Request: \u001b[39m\u001b[38;5;132;01m%s\u001b[39;00m\u001b[38;5;124m \u001b[39m\u001b[38;5;132;01m%s\u001b[39;00m\u001b[38;5;124m\"\u001b[39m, request\u001b[38;5;241m.\u001b[39mmethod, request\u001b[38;5;241m.\u001b[39murl)\n\u001b[0;32m    989\u001b[0m \u001b[38;5;28;01mtry\u001b[39;00m:\n\u001b[1;32m--> 990\u001b[0m     response \u001b[38;5;241m=\u001b[39m \u001b[38;5;28;43mself\u001b[39;49m\u001b[38;5;241;43m.\u001b[39;49m\u001b[43m_client\u001b[49m\u001b[38;5;241;43m.\u001b[39;49m\u001b[43msend\u001b[49m\u001b[43m(\u001b[49m\n\u001b[0;32m    991\u001b[0m \u001b[43m        \u001b[49m\u001b[43mrequest\u001b[49m\u001b[43m,\u001b[49m\n\u001b[0;32m    992\u001b[0m \u001b[43m        \u001b[49m\u001b[43mstream\u001b[49m\u001b[38;5;241;43m=\u001b[39;49m\u001b[43mstream\u001b[49m\u001b[43m \u001b[49m\u001b[38;5;129;43;01mor\u001b[39;49;00m\u001b[43m \u001b[49m\u001b[38;5;28;43mself\u001b[39;49m\u001b[38;5;241;43m.\u001b[39;49m\u001b[43m_should_stream_response_body\u001b[49m\u001b[43m(\u001b[49m\u001b[43mrequest\u001b[49m\u001b[38;5;241;43m=\u001b[39;49m\u001b[43mrequest\u001b[49m\u001b[43m)\u001b[49m\u001b[43m,\u001b[49m\n\u001b[0;32m    993\u001b[0m \u001b[43m        \u001b[49m\u001b[38;5;241;43m*\u001b[39;49m\u001b[38;5;241;43m*\u001b[39;49m\u001b[43mkwargs\u001b[49m\u001b[43m,\u001b[49m\n\u001b[0;32m    994\u001b[0m \u001b[43m    \u001b[49m\u001b[43m)\u001b[49m\n\u001b[0;32m    995\u001b[0m \u001b[38;5;28;01mexcept\u001b[39;00m httpx\u001b[38;5;241m.\u001b[39mTimeoutException \u001b[38;5;28;01mas\u001b[39;00m err:\n\u001b[0;32m    996\u001b[0m     log\u001b[38;5;241m.\u001b[39mdebug(\u001b[38;5;124m\"\u001b[39m\u001b[38;5;124mEncountered httpx.TimeoutException\u001b[39m\u001b[38;5;124m\"\u001b[39m, exc_info\u001b[38;5;241m=\u001b[39m\u001b[38;5;28;01mTrue\u001b[39;00m)\n",
      "File \u001b[1;32mc:\\dev\\repos\\curriculum-improve\\.conda\\Lib\\site-packages\\httpx\\_client.py:926\u001b[0m, in \u001b[0;36mClient.send\u001b[1;34m(self, request, stream, auth, follow_redirects)\u001b[0m\n\u001b[0;32m    922\u001b[0m \u001b[38;5;28mself\u001b[39m\u001b[38;5;241m.\u001b[39m_set_timeout(request)\n\u001b[0;32m    924\u001b[0m auth \u001b[38;5;241m=\u001b[39m \u001b[38;5;28mself\u001b[39m\u001b[38;5;241m.\u001b[39m_build_request_auth(request, auth)\n\u001b[1;32m--> 926\u001b[0m response \u001b[38;5;241m=\u001b[39m \u001b[38;5;28;43mself\u001b[39;49m\u001b[38;5;241;43m.\u001b[39;49m\u001b[43m_send_handling_auth\u001b[49m\u001b[43m(\u001b[49m\n\u001b[0;32m    927\u001b[0m \u001b[43m    \u001b[49m\u001b[43mrequest\u001b[49m\u001b[43m,\u001b[49m\n\u001b[0;32m    928\u001b[0m \u001b[43m    \u001b[49m\u001b[43mauth\u001b[49m\u001b[38;5;241;43m=\u001b[39;49m\u001b[43mauth\u001b[49m\u001b[43m,\u001b[49m\n\u001b[0;32m    929\u001b[0m \u001b[43m    \u001b[49m\u001b[43mfollow_redirects\u001b[49m\u001b[38;5;241;43m=\u001b[39;49m\u001b[43mfollow_redirects\u001b[49m\u001b[43m,\u001b[49m\n\u001b[0;32m    930\u001b[0m \u001b[43m    \u001b[49m\u001b[43mhistory\u001b[49m\u001b[38;5;241;43m=\u001b[39;49m\u001b[43m[\u001b[49m\u001b[43m]\u001b[49m\u001b[43m,\u001b[49m\n\u001b[0;32m    931\u001b[0m \u001b[43m\u001b[49m\u001b[43m)\u001b[49m\n\u001b[0;32m    932\u001b[0m \u001b[38;5;28;01mtry\u001b[39;00m:\n\u001b[0;32m    933\u001b[0m     \u001b[38;5;28;01mif\u001b[39;00m \u001b[38;5;129;01mnot\u001b[39;00m stream:\n",
      "File \u001b[1;32mc:\\dev\\repos\\curriculum-improve\\.conda\\Lib\\site-packages\\httpx\\_client.py:954\u001b[0m, in \u001b[0;36mClient._send_handling_auth\u001b[1;34m(self, request, auth, follow_redirects, history)\u001b[0m\n\u001b[0;32m    951\u001b[0m request \u001b[38;5;241m=\u001b[39m \u001b[38;5;28mnext\u001b[39m(auth_flow)\n\u001b[0;32m    953\u001b[0m \u001b[38;5;28;01mwhile\u001b[39;00m \u001b[38;5;28;01mTrue\u001b[39;00m:\n\u001b[1;32m--> 954\u001b[0m     response \u001b[38;5;241m=\u001b[39m \u001b[38;5;28;43mself\u001b[39;49m\u001b[38;5;241;43m.\u001b[39;49m\u001b[43m_send_handling_redirects\u001b[49m\u001b[43m(\u001b[49m\n\u001b[0;32m    955\u001b[0m \u001b[43m        \u001b[49m\u001b[43mrequest\u001b[49m\u001b[43m,\u001b[49m\n\u001b[0;32m    956\u001b[0m \u001b[43m        \u001b[49m\u001b[43mfollow_redirects\u001b[49m\u001b[38;5;241;43m=\u001b[39;49m\u001b[43mfollow_redirects\u001b[49m\u001b[43m,\u001b[49m\n\u001b[0;32m    957\u001b[0m \u001b[43m        \u001b[49m\u001b[43mhistory\u001b[49m\u001b[38;5;241;43m=\u001b[39;49m\u001b[43mhistory\u001b[49m\u001b[43m,\u001b[49m\n\u001b[0;32m    958\u001b[0m \u001b[43m    \u001b[49m\u001b[43m)\u001b[49m\n\u001b[0;32m    959\u001b[0m     \u001b[38;5;28;01mtry\u001b[39;00m:\n\u001b[0;32m    960\u001b[0m         \u001b[38;5;28;01mtry\u001b[39;00m:\n",
      "File \u001b[1;32mc:\\dev\\repos\\curriculum-improve\\.conda\\Lib\\site-packages\\httpx\\_client.py:991\u001b[0m, in \u001b[0;36mClient._send_handling_redirects\u001b[1;34m(self, request, follow_redirects, history)\u001b[0m\n\u001b[0;32m    988\u001b[0m \u001b[38;5;28;01mfor\u001b[39;00m hook \u001b[38;5;129;01min\u001b[39;00m \u001b[38;5;28mself\u001b[39m\u001b[38;5;241m.\u001b[39m_event_hooks[\u001b[38;5;124m\"\u001b[39m\u001b[38;5;124mrequest\u001b[39m\u001b[38;5;124m\"\u001b[39m]:\n\u001b[0;32m    989\u001b[0m     hook(request)\n\u001b[1;32m--> 991\u001b[0m response \u001b[38;5;241m=\u001b[39m \u001b[38;5;28;43mself\u001b[39;49m\u001b[38;5;241;43m.\u001b[39;49m\u001b[43m_send_single_request\u001b[49m\u001b[43m(\u001b[49m\u001b[43mrequest\u001b[49m\u001b[43m)\u001b[49m\n\u001b[0;32m    992\u001b[0m \u001b[38;5;28;01mtry\u001b[39;00m:\n\u001b[0;32m    993\u001b[0m     \u001b[38;5;28;01mfor\u001b[39;00m hook \u001b[38;5;129;01min\u001b[39;00m \u001b[38;5;28mself\u001b[39m\u001b[38;5;241m.\u001b[39m_event_hooks[\u001b[38;5;124m\"\u001b[39m\u001b[38;5;124mresponse\u001b[39m\u001b[38;5;124m\"\u001b[39m]:\n",
      "File \u001b[1;32mc:\\dev\\repos\\curriculum-improve\\.conda\\Lib\\site-packages\\httpx\\_client.py:1027\u001b[0m, in \u001b[0;36mClient._send_single_request\u001b[1;34m(self, request)\u001b[0m\n\u001b[0;32m   1022\u001b[0m     \u001b[38;5;28;01mraise\u001b[39;00m \u001b[38;5;167;01mRuntimeError\u001b[39;00m(\n\u001b[0;32m   1023\u001b[0m         \u001b[38;5;124m\"\u001b[39m\u001b[38;5;124mAttempted to send an async request with a sync Client instance.\u001b[39m\u001b[38;5;124m\"\u001b[39m\n\u001b[0;32m   1024\u001b[0m     )\n\u001b[0;32m   1026\u001b[0m \u001b[38;5;28;01mwith\u001b[39;00m request_context(request\u001b[38;5;241m=\u001b[39mrequest):\n\u001b[1;32m-> 1027\u001b[0m     response \u001b[38;5;241m=\u001b[39m \u001b[43mtransport\u001b[49m\u001b[38;5;241;43m.\u001b[39;49m\u001b[43mhandle_request\u001b[49m\u001b[43m(\u001b[49m\u001b[43mrequest\u001b[49m\u001b[43m)\u001b[49m\n\u001b[0;32m   1029\u001b[0m \u001b[38;5;28;01massert\u001b[39;00m \u001b[38;5;28misinstance\u001b[39m(response\u001b[38;5;241m.\u001b[39mstream, SyncByteStream)\n\u001b[0;32m   1031\u001b[0m response\u001b[38;5;241m.\u001b[39mrequest \u001b[38;5;241m=\u001b[39m request\n",
      "File \u001b[1;32mc:\\dev\\repos\\curriculum-improve\\.conda\\Lib\\site-packages\\httpx\\_transports\\default.py:236\u001b[0m, in \u001b[0;36mHTTPTransport.handle_request\u001b[1;34m(self, request)\u001b[0m\n\u001b[0;32m    223\u001b[0m req \u001b[38;5;241m=\u001b[39m httpcore\u001b[38;5;241m.\u001b[39mRequest(\n\u001b[0;32m    224\u001b[0m     method\u001b[38;5;241m=\u001b[39mrequest\u001b[38;5;241m.\u001b[39mmethod,\n\u001b[0;32m    225\u001b[0m     url\u001b[38;5;241m=\u001b[39mhttpcore\u001b[38;5;241m.\u001b[39mURL(\n\u001b[1;32m   (...)\u001b[0m\n\u001b[0;32m    233\u001b[0m     extensions\u001b[38;5;241m=\u001b[39mrequest\u001b[38;5;241m.\u001b[39mextensions,\n\u001b[0;32m    234\u001b[0m )\n\u001b[0;32m    235\u001b[0m \u001b[38;5;28;01mwith\u001b[39;00m map_httpcore_exceptions():\n\u001b[1;32m--> 236\u001b[0m     resp \u001b[38;5;241m=\u001b[39m \u001b[38;5;28;43mself\u001b[39;49m\u001b[38;5;241;43m.\u001b[39;49m\u001b[43m_pool\u001b[49m\u001b[38;5;241;43m.\u001b[39;49m\u001b[43mhandle_request\u001b[49m\u001b[43m(\u001b[49m\u001b[43mreq\u001b[49m\u001b[43m)\u001b[49m\n\u001b[0;32m    238\u001b[0m \u001b[38;5;28;01massert\u001b[39;00m \u001b[38;5;28misinstance\u001b[39m(resp\u001b[38;5;241m.\u001b[39mstream, typing\u001b[38;5;241m.\u001b[39mIterable)\n\u001b[0;32m    240\u001b[0m \u001b[38;5;28;01mreturn\u001b[39;00m Response(\n\u001b[0;32m    241\u001b[0m     status_code\u001b[38;5;241m=\u001b[39mresp\u001b[38;5;241m.\u001b[39mstatus,\n\u001b[0;32m    242\u001b[0m     headers\u001b[38;5;241m=\u001b[39mresp\u001b[38;5;241m.\u001b[39mheaders,\n\u001b[0;32m    243\u001b[0m     stream\u001b[38;5;241m=\u001b[39mResponseStream(resp\u001b[38;5;241m.\u001b[39mstream),\n\u001b[0;32m    244\u001b[0m     extensions\u001b[38;5;241m=\u001b[39mresp\u001b[38;5;241m.\u001b[39mextensions,\n\u001b[0;32m    245\u001b[0m )\n",
      "File \u001b[1;32mc:\\dev\\repos\\curriculum-improve\\.conda\\Lib\\site-packages\\httpcore\\_sync\\connection_pool.py:216\u001b[0m, in \u001b[0;36mConnectionPool.handle_request\u001b[1;34m(self, request)\u001b[0m\n\u001b[0;32m    213\u001b[0m         closing \u001b[38;5;241m=\u001b[39m \u001b[38;5;28mself\u001b[39m\u001b[38;5;241m.\u001b[39m_assign_requests_to_connections()\n\u001b[0;32m    215\u001b[0m     \u001b[38;5;28mself\u001b[39m\u001b[38;5;241m.\u001b[39m_close_connections(closing)\n\u001b[1;32m--> 216\u001b[0m     \u001b[38;5;28;01mraise\u001b[39;00m exc \u001b[38;5;28;01mfrom\u001b[39;00m \u001b[38;5;28;01mNone\u001b[39;00m\n\u001b[0;32m    218\u001b[0m \u001b[38;5;66;03m# Return the response. Note that in this case we still have to manage\u001b[39;00m\n\u001b[0;32m    219\u001b[0m \u001b[38;5;66;03m# the point at which the response is closed.\u001b[39;00m\n\u001b[0;32m    220\u001b[0m \u001b[38;5;28;01massert\u001b[39;00m \u001b[38;5;28misinstance\u001b[39m(response\u001b[38;5;241m.\u001b[39mstream, Iterable)\n",
      "File \u001b[1;32mc:\\dev\\repos\\curriculum-improve\\.conda\\Lib\\site-packages\\httpcore\\_sync\\connection_pool.py:196\u001b[0m, in \u001b[0;36mConnectionPool.handle_request\u001b[1;34m(self, request)\u001b[0m\n\u001b[0;32m    192\u001b[0m connection \u001b[38;5;241m=\u001b[39m pool_request\u001b[38;5;241m.\u001b[39mwait_for_connection(timeout\u001b[38;5;241m=\u001b[39mtimeout)\n\u001b[0;32m    194\u001b[0m \u001b[38;5;28;01mtry\u001b[39;00m:\n\u001b[0;32m    195\u001b[0m     \u001b[38;5;66;03m# Send the request on the assigned connection.\u001b[39;00m\n\u001b[1;32m--> 196\u001b[0m     response \u001b[38;5;241m=\u001b[39m \u001b[43mconnection\u001b[49m\u001b[38;5;241;43m.\u001b[39;49m\u001b[43mhandle_request\u001b[49m\u001b[43m(\u001b[49m\n\u001b[0;32m    197\u001b[0m \u001b[43m        \u001b[49m\u001b[43mpool_request\u001b[49m\u001b[38;5;241;43m.\u001b[39;49m\u001b[43mrequest\u001b[49m\n\u001b[0;32m    198\u001b[0m \u001b[43m    \u001b[49m\u001b[43m)\u001b[49m\n\u001b[0;32m    199\u001b[0m \u001b[38;5;28;01mexcept\u001b[39;00m ConnectionNotAvailable:\n\u001b[0;32m    200\u001b[0m     \u001b[38;5;66;03m# In some cases a connection may initially be available to\u001b[39;00m\n\u001b[0;32m    201\u001b[0m     \u001b[38;5;66;03m# handle a request, but then become unavailable.\u001b[39;00m\n\u001b[0;32m    202\u001b[0m     \u001b[38;5;66;03m#\u001b[39;00m\n\u001b[0;32m    203\u001b[0m     \u001b[38;5;66;03m# In this case we clear the connection and try again.\u001b[39;00m\n\u001b[0;32m    204\u001b[0m     pool_request\u001b[38;5;241m.\u001b[39mclear_connection()\n",
      "File \u001b[1;32mc:\\dev\\repos\\curriculum-improve\\.conda\\Lib\\site-packages\\httpcore\\_sync\\connection.py:101\u001b[0m, in \u001b[0;36mHTTPConnection.handle_request\u001b[1;34m(self, request)\u001b[0m\n\u001b[0;32m     98\u001b[0m     \u001b[38;5;28mself\u001b[39m\u001b[38;5;241m.\u001b[39m_connect_failed \u001b[38;5;241m=\u001b[39m \u001b[38;5;28;01mTrue\u001b[39;00m\n\u001b[0;32m     99\u001b[0m     \u001b[38;5;28;01mraise\u001b[39;00m exc\n\u001b[1;32m--> 101\u001b[0m \u001b[38;5;28;01mreturn\u001b[39;00m \u001b[38;5;28;43mself\u001b[39;49m\u001b[38;5;241;43m.\u001b[39;49m\u001b[43m_connection\u001b[49m\u001b[38;5;241;43m.\u001b[39;49m\u001b[43mhandle_request\u001b[49m\u001b[43m(\u001b[49m\u001b[43mrequest\u001b[49m\u001b[43m)\u001b[49m\n",
      "File \u001b[1;32mc:\\dev\\repos\\curriculum-improve\\.conda\\Lib\\site-packages\\httpcore\\_sync\\http11.py:143\u001b[0m, in \u001b[0;36mHTTP11Connection.handle_request\u001b[1;34m(self, request)\u001b[0m\n\u001b[0;32m    141\u001b[0m     \u001b[38;5;28;01mwith\u001b[39;00m Trace(\u001b[38;5;124m\"\u001b[39m\u001b[38;5;124mresponse_closed\u001b[39m\u001b[38;5;124m\"\u001b[39m, logger, request) \u001b[38;5;28;01mas\u001b[39;00m trace:\n\u001b[0;32m    142\u001b[0m         \u001b[38;5;28mself\u001b[39m\u001b[38;5;241m.\u001b[39m_response_closed()\n\u001b[1;32m--> 143\u001b[0m \u001b[38;5;28;01mraise\u001b[39;00m exc\n",
      "File \u001b[1;32mc:\\dev\\repos\\curriculum-improve\\.conda\\Lib\\site-packages\\httpcore\\_sync\\http11.py:113\u001b[0m, in \u001b[0;36mHTTP11Connection.handle_request\u001b[1;34m(self, request)\u001b[0m\n\u001b[0;32m    102\u001b[0m     \u001b[38;5;28;01mpass\u001b[39;00m\n\u001b[0;32m    104\u001b[0m \u001b[38;5;28;01mwith\u001b[39;00m Trace(\n\u001b[0;32m    105\u001b[0m     \u001b[38;5;124m\"\u001b[39m\u001b[38;5;124mreceive_response_headers\u001b[39m\u001b[38;5;124m\"\u001b[39m, logger, request, kwargs\n\u001b[0;32m    106\u001b[0m ) \u001b[38;5;28;01mas\u001b[39;00m trace:\n\u001b[0;32m    107\u001b[0m     (\n\u001b[0;32m    108\u001b[0m         http_version,\n\u001b[0;32m    109\u001b[0m         status,\n\u001b[0;32m    110\u001b[0m         reason_phrase,\n\u001b[0;32m    111\u001b[0m         headers,\n\u001b[0;32m    112\u001b[0m         trailing_data,\n\u001b[1;32m--> 113\u001b[0m     ) \u001b[38;5;241m=\u001b[39m \u001b[38;5;28;43mself\u001b[39;49m\u001b[38;5;241;43m.\u001b[39;49m\u001b[43m_receive_response_headers\u001b[49m\u001b[43m(\u001b[49m\u001b[38;5;241;43m*\u001b[39;49m\u001b[38;5;241;43m*\u001b[39;49m\u001b[43mkwargs\u001b[49m\u001b[43m)\u001b[49m\n\u001b[0;32m    114\u001b[0m     trace\u001b[38;5;241m.\u001b[39mreturn_value \u001b[38;5;241m=\u001b[39m (\n\u001b[0;32m    115\u001b[0m         http_version,\n\u001b[0;32m    116\u001b[0m         status,\n\u001b[0;32m    117\u001b[0m         reason_phrase,\n\u001b[0;32m    118\u001b[0m         headers,\n\u001b[0;32m    119\u001b[0m     )\n\u001b[0;32m    121\u001b[0m network_stream \u001b[38;5;241m=\u001b[39m \u001b[38;5;28mself\u001b[39m\u001b[38;5;241m.\u001b[39m_network_stream\n",
      "File \u001b[1;32mc:\\dev\\repos\\curriculum-improve\\.conda\\Lib\\site-packages\\httpcore\\_sync\\http11.py:186\u001b[0m, in \u001b[0;36mHTTP11Connection._receive_response_headers\u001b[1;34m(self, request)\u001b[0m\n\u001b[0;32m    183\u001b[0m timeout \u001b[38;5;241m=\u001b[39m timeouts\u001b[38;5;241m.\u001b[39mget(\u001b[38;5;124m\"\u001b[39m\u001b[38;5;124mread\u001b[39m\u001b[38;5;124m\"\u001b[39m, \u001b[38;5;28;01mNone\u001b[39;00m)\n\u001b[0;32m    185\u001b[0m \u001b[38;5;28;01mwhile\u001b[39;00m \u001b[38;5;28;01mTrue\u001b[39;00m:\n\u001b[1;32m--> 186\u001b[0m     event \u001b[38;5;241m=\u001b[39m \u001b[38;5;28;43mself\u001b[39;49m\u001b[38;5;241;43m.\u001b[39;49m\u001b[43m_receive_event\u001b[49m\u001b[43m(\u001b[49m\u001b[43mtimeout\u001b[49m\u001b[38;5;241;43m=\u001b[39;49m\u001b[43mtimeout\u001b[49m\u001b[43m)\u001b[49m\n\u001b[0;32m    187\u001b[0m     \u001b[38;5;28;01mif\u001b[39;00m \u001b[38;5;28misinstance\u001b[39m(event, h11\u001b[38;5;241m.\u001b[39mResponse):\n\u001b[0;32m    188\u001b[0m         \u001b[38;5;28;01mbreak\u001b[39;00m\n",
      "File \u001b[1;32mc:\\dev\\repos\\curriculum-improve\\.conda\\Lib\\site-packages\\httpcore\\_sync\\http11.py:224\u001b[0m, in \u001b[0;36mHTTP11Connection._receive_event\u001b[1;34m(self, timeout)\u001b[0m\n\u001b[0;32m    221\u001b[0m     event \u001b[38;5;241m=\u001b[39m \u001b[38;5;28mself\u001b[39m\u001b[38;5;241m.\u001b[39m_h11_state\u001b[38;5;241m.\u001b[39mnext_event()\n\u001b[0;32m    223\u001b[0m \u001b[38;5;28;01mif\u001b[39;00m event \u001b[38;5;129;01mis\u001b[39;00m h11\u001b[38;5;241m.\u001b[39mNEED_DATA:\n\u001b[1;32m--> 224\u001b[0m     data \u001b[38;5;241m=\u001b[39m \u001b[38;5;28;43mself\u001b[39;49m\u001b[38;5;241;43m.\u001b[39;49m\u001b[43m_network_stream\u001b[49m\u001b[38;5;241;43m.\u001b[39;49m\u001b[43mread\u001b[49m\u001b[43m(\u001b[49m\n\u001b[0;32m    225\u001b[0m \u001b[43m        \u001b[49m\u001b[38;5;28;43mself\u001b[39;49m\u001b[38;5;241;43m.\u001b[39;49m\u001b[43mREAD_NUM_BYTES\u001b[49m\u001b[43m,\u001b[49m\u001b[43m \u001b[49m\u001b[43mtimeout\u001b[49m\u001b[38;5;241;43m=\u001b[39;49m\u001b[43mtimeout\u001b[49m\n\u001b[0;32m    226\u001b[0m \u001b[43m    \u001b[49m\u001b[43m)\u001b[49m\n\u001b[0;32m    228\u001b[0m     \u001b[38;5;66;03m# If we feed this case through h11 we'll raise an exception like:\u001b[39;00m\n\u001b[0;32m    229\u001b[0m     \u001b[38;5;66;03m#\u001b[39;00m\n\u001b[0;32m    230\u001b[0m     \u001b[38;5;66;03m#     httpcore.RemoteProtocolError: can't handle event type\u001b[39;00m\n\u001b[1;32m   (...)\u001b[0m\n\u001b[0;32m    234\u001b[0m     \u001b[38;5;66;03m# perspective. Instead we handle this case distinctly and treat\u001b[39;00m\n\u001b[0;32m    235\u001b[0m     \u001b[38;5;66;03m# it as a ConnectError.\u001b[39;00m\n\u001b[0;32m    236\u001b[0m     \u001b[38;5;28;01mif\u001b[39;00m data \u001b[38;5;241m==\u001b[39m \u001b[38;5;124mb\u001b[39m\u001b[38;5;124m\"\u001b[39m\u001b[38;5;124m\"\u001b[39m \u001b[38;5;129;01mand\u001b[39;00m \u001b[38;5;28mself\u001b[39m\u001b[38;5;241m.\u001b[39m_h11_state\u001b[38;5;241m.\u001b[39mtheir_state \u001b[38;5;241m==\u001b[39m h11\u001b[38;5;241m.\u001b[39mSEND_RESPONSE:\n",
      "File \u001b[1;32mc:\\dev\\repos\\curriculum-improve\\.conda\\Lib\\site-packages\\httpcore\\_backends\\sync.py:126\u001b[0m, in \u001b[0;36mSyncStream.read\u001b[1;34m(self, max_bytes, timeout)\u001b[0m\n\u001b[0;32m    124\u001b[0m \u001b[38;5;28;01mwith\u001b[39;00m map_exceptions(exc_map):\n\u001b[0;32m    125\u001b[0m     \u001b[38;5;28mself\u001b[39m\u001b[38;5;241m.\u001b[39m_sock\u001b[38;5;241m.\u001b[39msettimeout(timeout)\n\u001b[1;32m--> 126\u001b[0m     \u001b[38;5;28;01mreturn\u001b[39;00m \u001b[38;5;28;43mself\u001b[39;49m\u001b[38;5;241;43m.\u001b[39;49m\u001b[43m_sock\u001b[49m\u001b[38;5;241;43m.\u001b[39;49m\u001b[43mrecv\u001b[49m\u001b[43m(\u001b[49m\u001b[43mmax_bytes\u001b[49m\u001b[43m)\u001b[49m\n",
      "File \u001b[1;32mc:\\dev\\repos\\curriculum-improve\\.conda\\Lib\\ssl.py:1295\u001b[0m, in \u001b[0;36mSSLSocket.recv\u001b[1;34m(self, buflen, flags)\u001b[0m\n\u001b[0;32m   1291\u001b[0m     \u001b[38;5;28;01mif\u001b[39;00m flags \u001b[38;5;241m!=\u001b[39m \u001b[38;5;241m0\u001b[39m:\n\u001b[0;32m   1292\u001b[0m         \u001b[38;5;28;01mraise\u001b[39;00m \u001b[38;5;167;01mValueError\u001b[39;00m(\n\u001b[0;32m   1293\u001b[0m             \u001b[38;5;124m\"\u001b[39m\u001b[38;5;124mnon-zero flags not allowed in calls to recv() on \u001b[39m\u001b[38;5;132;01m%s\u001b[39;00m\u001b[38;5;124m\"\u001b[39m \u001b[38;5;241m%\u001b[39m\n\u001b[0;32m   1294\u001b[0m             \u001b[38;5;28mself\u001b[39m\u001b[38;5;241m.\u001b[39m\u001b[38;5;18m__class__\u001b[39m)\n\u001b[1;32m-> 1295\u001b[0m     \u001b[38;5;28;01mreturn\u001b[39;00m \u001b[38;5;28;43mself\u001b[39;49m\u001b[38;5;241;43m.\u001b[39;49m\u001b[43mread\u001b[49m\u001b[43m(\u001b[49m\u001b[43mbuflen\u001b[49m\u001b[43m)\u001b[49m\n\u001b[0;32m   1296\u001b[0m \u001b[38;5;28;01melse\u001b[39;00m:\n\u001b[0;32m   1297\u001b[0m     \u001b[38;5;28;01mreturn\u001b[39;00m \u001b[38;5;28msuper\u001b[39m()\u001b[38;5;241m.\u001b[39mrecv(buflen, flags)\n",
      "File \u001b[1;32mc:\\dev\\repos\\curriculum-improve\\.conda\\Lib\\ssl.py:1168\u001b[0m, in \u001b[0;36mSSLSocket.read\u001b[1;34m(self, len, buffer)\u001b[0m\n\u001b[0;32m   1166\u001b[0m         \u001b[38;5;28;01mreturn\u001b[39;00m \u001b[38;5;28mself\u001b[39m\u001b[38;5;241m.\u001b[39m_sslobj\u001b[38;5;241m.\u001b[39mread(\u001b[38;5;28mlen\u001b[39m, buffer)\n\u001b[0;32m   1167\u001b[0m     \u001b[38;5;28;01melse\u001b[39;00m:\n\u001b[1;32m-> 1168\u001b[0m         \u001b[38;5;28;01mreturn\u001b[39;00m \u001b[38;5;28;43mself\u001b[39;49m\u001b[38;5;241;43m.\u001b[39;49m\u001b[43m_sslobj\u001b[49m\u001b[38;5;241;43m.\u001b[39;49m\u001b[43mread\u001b[49m\u001b[43m(\u001b[49m\u001b[38;5;28;43mlen\u001b[39;49m\u001b[43m)\u001b[49m\n\u001b[0;32m   1169\u001b[0m \u001b[38;5;28;01mexcept\u001b[39;00m SSLError \u001b[38;5;28;01mas\u001b[39;00m x:\n\u001b[0;32m   1170\u001b[0m     \u001b[38;5;28;01mif\u001b[39;00m x\u001b[38;5;241m.\u001b[39margs[\u001b[38;5;241m0\u001b[39m] \u001b[38;5;241m==\u001b[39m SSL_ERROR_EOF \u001b[38;5;129;01mand\u001b[39;00m \u001b[38;5;28mself\u001b[39m\u001b[38;5;241m.\u001b[39msuppress_ragged_eofs:\n",
      "\u001b[1;31mKeyboardInterrupt\u001b[0m: "
     ]
    }
   ],
   "source": [
    "checked_translations = check_translations(translations_df, cache_filepath=\"text_results.csv\")\n",
    "checked_translations.head(1)"
   ]
  },
  {
   "cell_type": "markdown",
   "id": "023f832a",
   "metadata": {},
   "source": [
    "### Rearrange translation result's columns for easier correcting"
   ]
  },
  {
   "cell_type": "code",
   "execution_count": 46,
   "id": "93e829f3",
   "metadata": {},
   "outputs": [
    {
     "data": {
      "text/html": [
       "<div>\n",
       "<style scoped>\n",
       "    .dataframe tbody tr th:only-of-type {\n",
       "        vertical-align: middle;\n",
       "    }\n",
       "\n",
       "    .dataframe tbody tr th {\n",
       "        vertical-align: top;\n",
       "    }\n",
       "\n",
       "    .dataframe thead th {\n",
       "        text-align: right;\n",
       "    }\n",
       "</style>\n",
       "<table border=\"1\" class=\"dataframe\">\n",
       "  <thead>\n",
       "    <tr style=\"text-align: right;\">\n",
       "      <th></th>\n",
       "      <th>filename</th>\n",
       "      <th>text_DE</th>\n",
       "      <th>text_EN</th>\n",
       "      <th>corrected_text_en</th>\n",
       "      <th>correctness</th>\n",
       "      <th>assessment</th>\n",
       "      <th>link_DE</th>\n",
       "      <th>link_EN</th>\n",
       "      <th>line_DE</th>\n",
       "      <th>line_EN</th>\n",
       "    </tr>\n",
       "  </thead>\n",
       "  <tbody>\n",
       "    <tr>\n",
       "      <th>0</th>\n",
       "      <td>../docs\\00a-preamble\\01-what-to-expect-of-an-a...</td>\n",
       "      <td>=== Was vermittelt ein Advanced Level Modul?</td>\n",
       "      <td>=== What is taught in an Advanced Level module?</td>\n",
       "      <td>=== What is conveyed in an Advanced Level module?</td>\n",
       "      <td>0.9</td>\n",
       "      <td>The translation is mostly accurate, but the te...</td>\n",
       "      <td>&lt;a href=\"vscode://file/c:\\dev\\repos\\curriculum...</td>\n",
       "      <td>&lt;a href=\"vscode://file/c:\\dev\\repos\\curriculum...</td>\n",
       "      <td>2.0</td>\n",
       "      <td>11.0</td>\n",
       "    </tr>\n",
       "  </tbody>\n",
       "</table>\n",
       "</div>"
      ],
      "text/plain": [
       "                                            filename  \\\n",
       "0  ../docs\\00a-preamble\\01-what-to-expect-of-an-a...   \n",
       "\n",
       "                                        text_DE  \\\n",
       "0  === Was vermittelt ein Advanced Level Modul?   \n",
       "\n",
       "                                           text_EN  \\\n",
       "0  === What is taught in an Advanced Level module?   \n",
       "\n",
       "                                   corrected_text_en  correctness  \\\n",
       "0  === What is conveyed in an Advanced Level module?          0.9   \n",
       "\n",
       "                                          assessment  \\\n",
       "0  The translation is mostly accurate, but the te...   \n",
       "\n",
       "                                             link_DE  \\\n",
       "0  <a href=\"vscode://file/c:\\dev\\repos\\curriculum...   \n",
       "\n",
       "                                             link_EN  line_DE  line_EN  \n",
       "0  <a href=\"vscode://file/c:\\dev\\repos\\curriculum...      2.0     11.0  "
      ]
     },
     "execution_count": 46,
     "metadata": {},
     "output_type": "execute_result"
    }
   ],
   "source": [
    "assessed_content = checked_translations[[\n",
    "    'filename',\n",
    "    'text_DE',\n",
    "    'text_EN',\n",
    "    'corrected_text_en',\n",
    "    'correctness',\n",
    "    'assessment',\n",
    "    'link_DE',\n",
    "    'link_EN',\n",
    "    'line_DE',\n",
    "    'line_EN']]\n",
    "\n",
    "assessed_content.head(1)"
   ]
  },
  {
   "cell_type": "markdown",
   "id": "8d451b61",
   "metadata": {},
   "source": [
    "### Create assessment output"
   ]
  },
  {
   "cell_type": "code",
   "execution_count": 47,
   "id": "8d6c9c35",
   "metadata": {},
   "outputs": [
    {
     "data": {
      "text/html": [
       "<div>\n",
       "<style scoped>\n",
       "    .dataframe tbody tr th:only-of-type {\n",
       "        vertical-align: middle;\n",
       "    }\n",
       "\n",
       "    .dataframe tbody tr th {\n",
       "        vertical-align: top;\n",
       "    }\n",
       "\n",
       "    .dataframe thead th {\n",
       "        text-align: right;\n",
       "    }\n",
       "</style>\n",
       "<table border=\"1\" class=\"dataframe\">\n",
       "  <thead>\n",
       "    <tr style=\"text-align: right;\">\n",
       "      <th></th>\n",
       "      <th>filename</th>\n",
       "      <th>text_DE</th>\n",
       "      <th>text_EN</th>\n",
       "      <th>corrected_text_en</th>\n",
       "      <th>correctness</th>\n",
       "      <th>assessment</th>\n",
       "      <th>link_DE</th>\n",
       "      <th>link_EN</th>\n",
       "      <th>line_DE</th>\n",
       "      <th>line_EN</th>\n",
       "    </tr>\n",
       "  </thead>\n",
       "  <tbody>\n",
       "    <tr>\n",
       "      <th>0</th>\n",
       "      <td>../docs\\00a-preamble\\01-what-to-expect-of-an-a...</td>\n",
       "      <td>=== Was vermittelt ein Advanced Level Modul?</td>\n",
       "      <td>=== What is taught in an Advanced Level module?</td>\n",
       "      <td>=== What is conveyed in an Advanced Level module?</td>\n",
       "      <td>0.9</td>\n",
       "      <td>The translation is mostly accurate, but the te...</td>\n",
       "      <td>&lt;a href=\"vscode://file/c:\\dev\\repos\\curriculum...</td>\n",
       "      <td>&lt;a href=\"vscode://file/c:\\dev\\repos\\curriculum...</td>\n",
       "      <td>2.0</td>\n",
       "      <td>11.0</td>\n",
       "    </tr>\n",
       "  </tbody>\n",
       "</table>\n",
       "</div>"
      ],
      "text/plain": [
       "                                            filename  \\\n",
       "0  ../docs\\00a-preamble\\01-what-to-expect-of-an-a...   \n",
       "\n",
       "                                        text_DE  \\\n",
       "0  === Was vermittelt ein Advanced Level Modul?   \n",
       "\n",
       "                                           text_EN  \\\n",
       "0  === What is taught in an Advanced Level module?   \n",
       "\n",
       "                                   corrected_text_en  correctness  \\\n",
       "0  === What is conveyed in an Advanced Level module?          0.9   \n",
       "\n",
       "                                          assessment  \\\n",
       "0  The translation is mostly accurate, but the te...   \n",
       "\n",
       "                                             link_DE  \\\n",
       "0  <a href=\"vscode://file/c:\\dev\\repos\\curriculum...   \n",
       "\n",
       "                                             link_EN  line_DE  line_EN  \n",
       "0  <a href=\"vscode://file/c:\\dev\\repos\\curriculum...      2.0     11.0  "
      ]
     },
     "execution_count": 47,
     "metadata": {},
     "output_type": "execute_result"
    }
   ],
   "source": [
    "assessed_content.to_html(\"temp/translation_assessment_report.html\", escape=False)\n",
    "assessed_content.to_excel(\"temp/translation_assessment_report.xlsx\", index=None)\n",
    "assessed_content.head(1)"
   ]
  },
  {
   "cell_type": "markdown",
   "id": "c1148b55",
   "metadata": {},
   "source": [
    "### Set the threshold\n",
    "Set the threshold for correctness. The default with 0.8 may be too ambitious.m"
   ]
  },
  {
   "cell_type": "code",
   "execution_count": 45,
   "id": "c850239e",
   "metadata": {},
   "outputs": [
    {
     "data": {
      "text/html": [
       "<table border=\"1\" class=\"dataframe\">\n",
       "  <thead>\n",
       "    <tr style=\"text-align: right;\">\n",
       "      <th></th>\n",
       "      <th>filename</th>\n",
       "      <th>text_DE</th>\n",
       "      <th>text_EN</th>\n",
       "      <th>corrected_text_en</th>\n",
       "      <th>correctness</th>\n",
       "      <th>assessment</th>\n",
       "      <th>link_DE</th>\n",
       "      <th>link_EN</th>\n",
       "      <th>line_DE</th>\n",
       "      <th>line_EN</th>\n",
       "    </tr>\n",
       "  </thead>\n",
       "  <tbody>\n",
       "    <tr>\n",
       "      <th>21</th>\n",
       "      <td>../docs\\00b-basics\\02-curriculum-structure-and-chronological-breakdown.adoc</td>\n",
       "      <td>|===</td>\n",
       "      <td>|===</td>\n",
       "      <td>|===</td>\n",
       "      <td>0.0</td>\n",
       "      <td>The translations do not match at all, indicating a complete failure in conveying the original meaning and structure.</td>\n",
       "      <td><a href=\"vscode://file/c:\\dev\\repos\\curriculum-improve\\docs\\00b-basics\\02-curriculum-structure-and-chronological-breakdown.adoc:5.0\">5.0</a></td>\n",
       "      <td><a href=\"vscode://file/c:\\dev\\repos\\curriculum-improve\\docs\\00b-basics\\02-curriculum-structure-and-chronological-breakdown.adoc:54.0\">54.0</a></td>\n",
       "      <td>6.0</td>\n",
       "      <td>55.0</td>\n",
       "    </tr>\n",
       "    <tr>\n",
       "      <th>33</th>\n",
       "      <td>../docs\\00b-basics\\02-curriculum-structure-and-chronological-breakdown.adoc</td>\n",
       "      <td>| 30</td>\n",
       "      <td>| 60</td>\n",
       "      <td>| 30</td>\n",
       "      <td>0.0</td>\n",
       "      <td>The translations do not match in content, as the German text indicates '30' while the English text indicates '60'. This is a significant discrepancy that needs to be addressed.</td>\n",
       "      <td><a href=\"vscode://file/c:\\dev\\repos\\curriculum-improve\\docs\\00b-basics\\02-curriculum-structure-and-chronological-breakdown.adoc:17.0\">17.0</a></td>\n",
       "      <td><a href=\"vscode://file/c:\\dev\\repos\\curriculum-improve\\docs\\00b-basics\\02-curriculum-structure-and-chronological-breakdown.adoc:66.0\">66.0</a></td>\n",
       "      <td>22.0</td>\n",
       "      <td>71.0</td>\n",
       "    </tr>\n",
       "    <tr>\n",
       "      <th>38</th>\n",
       "      <td>../docs\\00b-basics\\02-curriculum-structure-and-chronological-breakdown.adoc</td>\n",
       "      <td>| 280</td>\n",
       "      <td>| 180</td>\n",
       "      <td>| 280</td>\n",
       "      <td>0.0</td>\n",
       "      <td>The translations do not match in content, indicating a significant error in translation. The German text indicates a value of 280, while the English text states 180, which is inconsistent.</td>\n",
       "      <td><a href=\"vscode://file/c:\\dev\\repos\\curriculum-improve\\docs\\00b-basics\\02-curriculum-structure-and-chronological-breakdown.adoc:22.0\">22.0</a></td>\n",
       "      <td><a href=\"vscode://file/c:\\dev\\repos\\curriculum-improve\\docs\\00b-basics\\02-curriculum-structure-and-chronological-breakdown.adoc:71.0\">71.0</a></td>\n",
       "      <td>29.0</td>\n",
       "      <td>78.0</td>\n",
       "    </tr>\n",
       "    <tr>\n",
       "      <th>43</th>\n",
       "      <td>../docs\\00b-basics\\02-curriculum-structure-and-chronological-breakdown.adoc</td>\n",
       "      <td>|</td>\n",
       "      <td>|</td>\n",
       "      <td></td>\n",
       "      <td>0.0</td>\n",
       "      <td>The translations do not match at all, indicating a complete lack of coherence between the German and English texts.</td>\n",
       "      <td><a href=\"vscode://file/c:\\dev\\repos\\curriculum-improve\\docs\\00b-basics\\02-curriculum-structure-and-chronological-breakdown.adoc:27.0\">27.0</a></td>\n",
       "      <td><a href=\"vscode://file/c:\\dev\\repos\\curriculum-improve\\docs\\00b-basics\\02-curriculum-structure-and-chronological-breakdown.adoc:76.0\">76.0</a></td>\n",
       "      <td>36.0</td>\n",
       "      <td>85.0</td>\n",
       "    </tr>\n",
       "    <tr>\n",
       "      <th>44</th>\n",
       "      <td>../docs\\00b-basics\\02-curriculum-structure-and-chronological-breakdown.adoc</td>\n",
       "      <td>|</td>\n",
       "      <td>|</td>\n",
       "      <td></td>\n",
       "      <td>0.0</td>\n",
       "      <td>The translations do not match at all, indicating a complete lack of correspondence between the German and English texts.</td>\n",
       "      <td><a href=\"vscode://file/c:\\dev\\repos\\curriculum-improve\\docs\\00b-basics\\02-curriculum-structure-and-chronological-breakdown.adoc:28.0\">28.0</a></td>\n",
       "      <td><a href=\"vscode://file/c:\\dev\\repos\\curriculum-improve\\docs\\00b-basics\\02-curriculum-structure-and-chronological-breakdown.adoc:77.0\">77.0</a></td>\n",
       "      <td>37.0</td>\n",
       "      <td>86.0</td>\n",
       "    </tr>\n",
       "    <tr>\n",
       "      <th>45</th>\n",
       "      <td>../docs\\00b-basics\\02-curriculum-structure-and-chronological-breakdown.adoc</td>\n",
       "      <td>|</td>\n",
       "      <td>|</td>\n",
       "      <td></td>\n",
       "      <td>0.0</td>\n",
       "      <td>The translations do not match at all, indicating a complete lack of correspondence between the German and English texts.</td>\n",
       "      <td><a href=\"vscode://file/c:\\dev\\repos\\curriculum-improve\\docs\\00b-basics\\02-curriculum-structure-and-chronological-breakdown.adoc:29.0\">29.0</a></td>\n",
       "      <td><a href=\"vscode://file/c:\\dev\\repos\\curriculum-improve\\docs\\00b-basics\\02-curriculum-structure-and-chronological-breakdown.adoc:78.0\">78.0</a></td>\n",
       "      <td>38.0</td>\n",
       "      <td>87.0</td>\n",
       "    </tr>\n",
       "    <tr>\n",
       "      <th>49</th>\n",
       "      <td>../docs\\00b-basics\\02-curriculum-structure-and-chronological-breakdown.adoc</td>\n",
       "      <td>|===</td>\n",
       "      <td>|===</td>\n",
       "      <td>|===</td>\n",
       "      <td>0.0</td>\n",
       "      <td>The translations do not match at all, indicating a complete failure in conveying the original meaning and structure.</td>\n",
       "      <td><a href=\"vscode://file/c:\\dev\\repos\\curriculum-improve\\docs\\00b-basics\\02-curriculum-structure-and-chronological-breakdown.adoc:33.0\">33.0</a></td>\n",
       "      <td><a href=\"vscode://file/c:\\dev\\repos\\curriculum-improve\\docs\\00b-basics\\02-curriculum-structure-and-chronological-breakdown.adoc:82.0\">82.0</a></td>\n",
       "      <td>43.0</td>\n",
       "      <td>92.0</td>\n",
       "    </tr>\n",
       "    <tr>\n",
       "      <th>59</th>\n",
       "      <td>../docs\\00b-basics\\03-timing-didactics-and-more.adoc</td>\n",
       "      <td>|===</td>\n",
       "      <td>|===</td>\n",
       "      <td>|===</td>\n",
       "      <td>0.0</td>\n",
       "      <td>The translations do not match at all, indicating a complete failure in conveying the original meaning and structure.</td>\n",
       "      <td><a href=\"vscode://file/c:\\dev\\repos\\curriculum-improve\\docs\\00b-basics\\03-timing-didactics-and-more.adoc:15.0\">15.0</a></td>\n",
       "      <td><a href=\"vscode://file/c:\\dev\\repos\\curriculum-improve\\docs\\00b-basics\\03-timing-didactics-and-more.adoc:34.0\">34.0</a></td>\n",
       "      <td>18.0</td>\n",
       "      <td>37.0</td>\n",
       "    </tr>\n",
       "    <tr>\n",
       "      <th>63</th>\n",
       "      <td>../docs\\00b-basics\\03-timing-didactics-and-more.adoc</td>\n",
       "      <td>|===</td>\n",
       "      <td>|===</td>\n",
       "      <td>|===</td>\n",
       "      <td>0.0</td>\n",
       "      <td>The translations do not match at all, indicating a complete failure in conveying the original meaning and structure.</td>\n",
       "      <td><a href=\"vscode://file/c:\\dev\\repos\\curriculum-improve\\docs\\00b-basics\\03-timing-didactics-and-more.adoc:19.0\">19.0</a></td>\n",
       "      <td><a href=\"vscode://file/c:\\dev\\repos\\curriculum-improve\\docs\\00b-basics\\03-timing-didactics-and-more.adoc:38.0\">38.0</a></td>\n",
       "      <td>22.0</td>\n",
       "      <td>41.0</td>\n",
       "    </tr>\n",
       "    <tr>\n",
       "      <th>64</th>\n",
       "      <td>../docs\\00b-basics\\04-prerequisites-for-this-training.adoc</td>\n",
       "      <td>=== Voraussetzungen für das Modul IMPROVE</td>\n",
       "      <td>=== Prerequisites</td>\n",
       "      <td>=== Prerequisites for the IMPROVE Module</td>\n",
       "      <td>0.5</td>\n",
       "      <td>The English translation is incomplete as it does not convey the full meaning of the German text, which specifies 'Voraussetzungen für das Modul IMPROVE' (Prerequisites for the IMPROVE module).</td>\n",
       "      <td><a href=\"vscode://file/c:\\dev\\repos\\curriculum-improve\\docs\\00b-basics\\04-prerequisites-for-this-training.adoc:2.0\">2.0</a></td>\n",
       "      <td><a href=\"vscode://file/c:\\dev\\repos\\curriculum-improve\\docs\\00b-basics\\04-prerequisites-for-this-training.adoc:22.0\">22.0</a></td>\n",
       "      <td>2.0</td>\n",
       "      <td>22.0</td>\n",
       "    </tr>\n",
       "    <tr>\n",
       "      <th>88</th>\n",
       "      <td>../docs\\01-principles\\01-duration-terms.adoc</td>\n",
       "      <td>|===</td>\n",
       "      <td>|===</td>\n",
       "      <td>|===</td>\n",
       "      <td>0.0</td>\n",
       "      <td>The translations do not match at all, indicating a complete failure in conveying the original meaning and structure.</td>\n",
       "      <td><a href=\"vscode://file/c:\\dev\\repos\\curriculum-improve\\docs\\01-principles\\01-duration-terms.adoc:3.0\">3.0</a></td>\n",
       "      <td><a href=\"vscode://file/c:\\dev\\repos\\curriculum-improve\\docs\\01-principles\\01-duration-terms.adoc:15.0\">15.0</a></td>\n",
       "      <td>3.0</td>\n",
       "      <td>15.0</td>\n",
       "    </tr>\n",
       "    <tr>\n",
       "      <th>90</th>\n",
       "      <td>../docs\\01-principles\\01-duration-terms.adoc</td>\n",
       "      <td>|===</td>\n",
       "      <td>|===</td>\n",
       "      <td>|===</td>\n",
       "      <td>0.0</td>\n",
       "      <td>The translations do not match at all, indicating a complete failure in conveying the original meaning and structure.</td>\n",
       "      <td><a href=\"vscode://file/c:\\dev\\repos\\curriculum-improve\\docs\\01-principles\\01-duration-terms.adoc:5.0\">5.0</a></td>\n",
       "      <td><a href=\"vscode://file/c:\\dev\\repos\\curriculum-improve\\docs\\01-principles\\01-duration-terms.adoc:17.0\">17.0</a></td>\n",
       "      <td>5.0</td>\n",
       "      <td>17.0</td>\n",
       "    </tr>\n",
       "    <tr>\n",
       "      <th>138</th>\n",
       "      <td>../docs\\02-analyze\\01-duration-terms.adoc</td>\n",
       "      <td>|===</td>\n",
       "      <td>|===</td>\n",
       "      <td></td>\n",
       "      <td>0.0</td>\n",
       "      <td>The translations do not match at all, indicating a complete lack of correspondence between the German and English texts.</td>\n",
       "      <td><a href=\"vscode://file/c:\\dev\\repos\\curriculum-improve\\docs\\02-analyze\\01-duration-terms.adoc:3.0\">3.0</a></td>\n",
       "      <td><a href=\"vscode://file/c:\\dev\\repos\\curriculum-improve\\docs\\02-analyze\\01-duration-terms.adoc:14.0\">14.0</a></td>\n",
       "      <td>3.0</td>\n",
       "      <td>14.0</td>\n",
       "    </tr>\n",
       "    <tr>\n",
       "      <th>140</th>\n",
       "      <td>../docs\\02-analyze\\01-duration-terms.adoc</td>\n",
       "      <td>|===</td>\n",
       "      <td>|===</td>\n",
       "      <td>|===</td>\n",
       "      <td>0.0</td>\n",
       "      <td>The translations do not match at all, indicating a complete failure in conveying the original meaning and structure.</td>\n",
       "      <td><a href=\"vscode://file/c:\\dev\\repos\\curriculum-improve\\docs\\02-analyze\\01-duration-terms.adoc:5.0\">5.0</a></td>\n",
       "      <td><a href=\"vscode://file/c:\\dev\\repos\\curriculum-improve\\docs\\02-analyze\\01-duration-terms.adoc:16.0\">16.0</a></td>\n",
       "      <td>5.0</td>\n",
       "      <td>16.0</td>\n",
       "    </tr>\n",
       "    <tr>\n",
       "      <th>182</th>\n",
       "      <td>../docs\\03-evaluate\\01-duration-terms.adoc</td>\n",
       "      <td>|===</td>\n",
       "      <td>|===</td>\n",
       "      <td>|===</td>\n",
       "      <td>0.0</td>\n",
       "      <td>The translations do not match at all, indicating a complete failure in conveying the original meaning and structure.</td>\n",
       "      <td><a href=\"vscode://file/c:\\dev\\repos\\curriculum-improve\\docs\\03-evaluate\\01-duration-terms.adoc:3.0\">3.0</a></td>\n",
       "      <td><a href=\"vscode://file/c:\\dev\\repos\\curriculum-improve\\docs\\03-evaluate\\01-duration-terms.adoc:14.0\">14.0</a></td>\n",
       "      <td>3.0</td>\n",
       "      <td>14.0</td>\n",
       "    </tr>\n",
       "    <tr>\n",
       "      <th>184</th>\n",
       "      <td>../docs\\03-evaluate\\01-duration-terms.adoc</td>\n",
       "      <td>|===</td>\n",
       "      <td>|===</td>\n",
       "      <td>|===</td>\n",
       "      <td>0.0</td>\n",
       "      <td>The translations do not match at all, indicating a complete failure in conveying the original meaning and structure.</td>\n",
       "      <td><a href=\"vscode://file/c:\\dev\\repos\\curriculum-improve\\docs\\03-evaluate\\01-duration-terms.adoc:5.0\">5.0</a></td>\n",
       "      <td><a href=\"vscode://file/c:\\dev\\repos\\curriculum-improve\\docs\\03-evaluate\\01-duration-terms.adoc:16.0\">16.0</a></td>\n",
       "      <td>5.0</td>\n",
       "      <td>16.0</td>\n",
       "    </tr>\n",
       "    <tr>\n",
       "      <th>210</th>\n",
       "      <td>../docs\\04-planning\\01-duration-terms.adoc</td>\n",
       "      <td>|===</td>\n",
       "      <td>|===</td>\n",
       "      <td></td>\n",
       "      <td>0.0</td>\n",
       "      <td>The translations do not match at all, indicating a complete lack of correspondence between the German and English texts.</td>\n",
       "      <td><a href=\"vscode://file/c:\\dev\\repos\\curriculum-improve\\docs\\04-planning\\01-duration-terms.adoc:3.0\">3.0</a></td>\n",
       "      <td><a href=\"vscode://file/c:\\dev\\repos\\curriculum-improve\\docs\\04-planning\\01-duration-terms.adoc:14.0\">14.0</a></td>\n",
       "      <td>3.0</td>\n",
       "      <td>14.0</td>\n",
       "    </tr>\n",
       "    <tr>\n",
       "      <th>212</th>\n",
       "      <td>../docs\\04-planning\\01-duration-terms.adoc</td>\n",
       "      <td>|===</td>\n",
       "      <td>|===</td>\n",
       "      <td>|===</td>\n",
       "      <td>0.0</td>\n",
       "      <td>The translations do not match at all, indicating a complete failure in conveying the original meaning and structure.</td>\n",
       "      <td><a href=\"vscode://file/c:\\dev\\repos\\curriculum-improve\\docs\\04-planning\\01-duration-terms.adoc:5.0\">5.0</a></td>\n",
       "      <td><a href=\"vscode://file/c:\\dev\\repos\\curriculum-improve\\docs\\04-planning\\01-duration-terms.adoc:16.0\">16.0</a></td>\n",
       "      <td>5.0</td>\n",
       "      <td>16.0</td>\n",
       "    </tr>\n",
       "    <tr>\n",
       "      <th>236</th>\n",
       "      <td>../docs\\05-approaches\\01-duration-terms.adoc</td>\n",
       "      <td>|===</td>\n",
       "      <td>|===</td>\n",
       "      <td>|===</td>\n",
       "      <td>0.0</td>\n",
       "      <td>The translations do not match at all, indicating a complete failure in conveying the original meaning and structure.</td>\n",
       "      <td><a href=\"vscode://file/c:\\dev\\repos\\curriculum-improve\\docs\\05-approaches\\01-duration-terms.adoc:3.0\">3.0</a></td>\n",
       "      <td><a href=\"vscode://file/c:\\dev\\repos\\curriculum-improve\\docs\\05-approaches\\01-duration-terms.adoc:16.0\">16.0</a></td>\n",
       "      <td>3.0</td>\n",
       "      <td>16.0</td>\n",
       "    </tr>\n",
       "    <tr>\n",
       "      <th>238</th>\n",
       "      <td>../docs\\05-approaches\\01-duration-terms.adoc</td>\n",
       "      <td>|===</td>\n",
       "      <td>|===</td>\n",
       "      <td>|===</td>\n",
       "      <td>0.0</td>\n",
       "      <td>The translations do not match at all, indicating a complete failure in conveying the original meaning and structure.</td>\n",
       "      <td><a href=\"vscode://file/c:\\dev\\repos\\curriculum-improve\\docs\\05-approaches\\01-duration-terms.adoc:5.0\">5.0</a></td>\n",
       "      <td><a href=\"vscode://file/c:\\dev\\repos\\curriculum-improve\\docs\\05-approaches\\01-duration-terms.adoc:18.0\">18.0</a></td>\n",
       "      <td>5.0</td>\n",
       "      <td>18.0</td>\n",
       "    </tr>\n",
       "    <tr>\n",
       "      <th>241</th>\n",
       "      <td>../docs\\05-approaches\\01-duration-terms.adoc</td>\n",
       "      <td>Verbesserung in Code, Daten, querschnittlichen Konzepten, Prozessen, Infrastruktur, Analysierbarkeit/Monitoring;</td>\n",
       "      <td>Reduction of technical debts, ways to improve source code: refactoring, reduction of complexity and coupling, improve readability and comprehensibility; process automation to lower risk of changes, in particular, automated tests.</td>\n",
       "      <td>Improvements in code, data, cross-sectional concepts, processes, infrastructure, analyzability/monitoring;</td>\n",
       "      <td>0.1</td>\n",
       "      <td>The English translation does not accurately reflect the meaning of the German text. Key concepts are misrepresented or omitted.</td>\n",
       "      <td><a href=\"vscode://file/c:\\dev\\repos\\curriculum-improve\\docs\\05-approaches\\01-duration-terms.adoc:8.0\">8.0</a></td>\n",
       "      <td><a href=\"vscode://file/c:\\dev\\repos\\curriculum-improve\\docs\\05-approaches\\01-duration-terms.adoc:21.0\">21.0</a></td>\n",
       "      <td>9.0</td>\n",
       "      <td>22.0</td>\n",
       "    </tr>\n",
       "    <tr>\n",
       "      <th>242</th>\n",
       "      <td>../docs\\05-approaches\\01-duration-terms.adoc</td>\n",
       "      <td>Erhöhung der Lesbarkeit und Verständlichkeit;Automatisierung von Prozessen zur Senkung von Änderungsrisiken, insbesondere automatisierte Tests.</td>\n",
       "      <td>NaN</td>\n",
       "      <td>Increase in readability and comprehensibility; automation of processes to reduce change risks, especially automated testing.</td>\n",
       "      <td>0.0</td>\n",
       "      <td>The English translation is missing, which makes it impossible to assess the correctness of the translation. The German text needs to be translated into English for a proper evaluation.</td>\n",
       "      <td><a href=\"vscode://file/c:\\dev\\repos\\curriculum-improve\\docs\\05-approaches\\01-duration-terms.adoc:10.0\">10.0</a></td>\n",
       "      <td><a href=\"vscode://file/c:\\dev\\repos\\curriculum-improve\\docs\\05-approaches\\01-duration-terms.adoc:23.0\">23.0</a></td>\n",
       "      <td>11.0</td>\n",
       "      <td>NaN</td>\n",
       "    </tr>\n",
       "    <tr>\n",
       "      <th>277</th>\n",
       "      <td>../docs\\06-examples\\01-duration-terms.adoc</td>\n",
       "      <td>|===</td>\n",
       "      <td>|===</td>\n",
       "      <td>|===</td>\n",
       "      <td>0.0</td>\n",
       "      <td>The translations do not match at all, indicating a complete failure in conveying the original meaning and structure.</td>\n",
       "      <td><a href=\"vscode://file/c:\\dev\\repos\\curriculum-improve\\docs\\06-examples\\01-duration-terms.adoc:3.0\">3.0</a></td>\n",
       "      <td><a href=\"vscode://file/c:\\dev\\repos\\curriculum-improve\\docs\\06-examples\\01-duration-terms.adoc:21.0\">21.0</a></td>\n",
       "      <td>3.0</td>\n",
       "      <td>21.0</td>\n",
       "    </tr>\n",
       "    <tr>\n",
       "      <th>279</th>\n",
       "      <td>../docs\\06-examples\\01-duration-terms.adoc</td>\n",
       "      <td>|===</td>\n",
       "      <td>|===</td>\n",
       "      <td>|===</td>\n",
       "      <td>0.0</td>\n",
       "      <td>The translations do not match at all, indicating a complete failure in conveying the original meaning and structure.</td>\n",
       "      <td><a href=\"vscode://file/c:\\dev\\repos\\curriculum-improve\\docs\\06-examples\\01-duration-terms.adoc:5.0\">5.0</a></td>\n",
       "      <td><a href=\"vscode://file/c:\\dev\\repos\\curriculum-improve\\docs\\06-examples\\01-duration-terms.adoc:23.0\">23.0</a></td>\n",
       "      <td>5.0</td>\n",
       "      <td>23.0</td>\n",
       "    </tr>\n",
       "    <tr>\n",
       "      <th>280</th>\n",
       "      <td>../docs\\06-examples\\01-duration-terms.adoc</td>\n",
       "      <td>**Anmerkung**:</td>\n",
       "      <td>=== Terms and concepts</td>\n",
       "      <td>**Note**:</td>\n",
       "      <td>0.0</td>\n",
       "      <td>The English translation does not correspond to the German text, which simply states 'Anmerkung' (Note). The English text introduces a completely different topic, 'Terms and concepts', which is not a translation of the German text.</td>\n",
       "      <td><a href=\"vscode://file/c:\\dev\\repos\\curriculum-improve\\docs\\06-examples\\01-duration-terms.adoc:6.0\">6.0</a></td>\n",
       "      <td><a href=\"vscode://file/c:\\dev\\repos\\curriculum-improve\\docs\\06-examples\\01-duration-terms.adoc:24.0\">24.0</a></td>\n",
       "      <td>7.0</td>\n",
       "      <td>27.0</td>\n",
       "    </tr>\n",
       "    <tr>\n",
       "      <th>281</th>\n",
       "      <td>../docs\\06-examples\\01-duration-terms.adoc</td>\n",
       "      <td>=== Begriffe und Konzepte</td>\n",
       "      <td>At least one example of a software architecture to be improved must be presented within each licensed course. Examples for improvement projects of real systems can be individually selected by trainers and training providers and are not specified by the iSAQB^(R)^ e. V..</td>\n",
       "      <td>Terms and Concepts</td>\n",
       "      <td>0.0</td>\n",
       "      <td>The English translation does not correspond to the German text provided. The German text simply states 'Terms and Concepts', while the English text discusses requirements for software architecture courses, which is unrelated.</td>\n",
       "      <td><a href=\"vscode://file/c:\\dev\\repos\\curriculum-improve\\docs\\06-examples\\01-duration-terms.adoc:7.0\">7.0</a></td>\n",
       "      <td><a href=\"vscode://file/c:\\dev\\repos\\curriculum-improve\\docs\\06-examples\\01-duration-terms.adoc:25.0\">25.0</a></td>\n",
       "      <td>9.0</td>\n",
       "      <td>28.0</td>\n",
       "    </tr>\n",
       "    <tr>\n",
       "      <th>282</th>\n",
       "      <td>../docs\\06-examples\\01-duration-terms.adoc</td>\n",
       "      <td>Innerhalb jeder lizenzierten Schulung muss mindestens ein Beispiel für eine zu verbessernde Softwarearchitektur vorgestellt werden. Beispiele für Verbesserungsprojekte realer Systeme können von Trainer:innen und Schulungsanbietern individuell ausgewählt werden und werden vom iSAQB^(R)^ e. V. nicht vorgegeben.</td>\n",
       "      <td>Note: The main goal of IMPROVE is to deliver ideas for improving software architectures and not just code. The examples can include code and other low-level artifacts, but should not primarily focus on pure refactorings of existing code bases (e.g. by using IDEs).</td>\n",
       "      <td>Within each licensed training, at least one example of a software architecture that needs improvement must be presented. Examples of improvement projects for real systems can be individually selected by trainers and training providers and are not specified by iSAQB^(R)^ e. V.</td>\n",
       "      <td>0.0</td>\n",
       "      <td>The English translation does not accurately reflect the content of the German text. The German text discusses the requirement of presenting examples of software architecture improvements in licensed training, while the English text focuses on the goals of a program called IMPROVE, which is unrelated to the original German content.</td>\n",
       "      <td><a href=\"vscode://file/c:\\dev\\repos\\curriculum-improve\\docs\\06-examples\\01-duration-terms.adoc:8.0\">8.0</a></td>\n",
       "      <td><a href=\"vscode://file/c:\\dev\\repos\\curriculum-improve\\docs\\06-examples\\01-duration-terms.adoc:26.0\">26.0</a></td>\n",
       "      <td>10.0</td>\n",
       "      <td>30.0</td>\n",
       "    </tr>\n",
       "    <tr>\n",
       "      <th>283</th>\n",
       "      <td>../docs\\06-examples\\01-duration-terms.adoc</td>\n",
       "      <td>Hinweis: Das Hauptziel von IMPROVE ist es, Ideen zur Verbesserung von Softwarearchitekturen und nicht nur von Code zu liefern. Die Beispiele können Code und andere Low-Level-Artefakte enthalten, sollten sich aber nicht primär auf reine Refactorings bestehender Codebasen (z.B. durch den Einsatz von IDEs) konzentrieren.</td>\n",
       "      <td>Due to the secrecy or confidentiality regulations that often apply to real IT systems, iSAQB^(R)^ e. V. allows training providers and trainers to show examples in abstract or only in extracts in training courses.</td>\n",
       "      <td>Note: The main goal of IMPROVE is to provide ideas for improving software architectures and not just code. The examples may include code and other low-level artifacts, but should not primarily focus on pure refactorings of existing codebases (e.g., through the use of IDEs).</td>\n",
       "      <td>0.0</td>\n",
       "      <td>The English translation does not correspond to the German text at all. They discuss entirely different topics, indicating a significant translation error.</td>\n",
       "      <td><a href=\"vscode://file/c:\\dev\\repos\\curriculum-improve\\docs\\06-examples\\01-duration-terms.adoc:9.0\">9.0</a></td>\n",
       "      <td><a href=\"vscode://file/c:\\dev\\repos\\curriculum-improve\\docs\\06-examples\\01-duration-terms.adoc:27.0\">27.0</a></td>\n",
       "      <td>12.0</td>\n",
       "      <td>32.0</td>\n",
       "    </tr>\n",
       "  </tbody>\n",
       "</table>"
      ],
      "text/plain": [
       "<IPython.core.display.HTML object>"
      ]
     },
     "metadata": {},
     "output_type": "display_data"
    }
   ],
   "source": [
    "THRESHOLD = 0.5\n",
    "needed_corrections = assessed_content[assessed_content['correctness'] <= THRESHOLD]\n",
    "display(HTML(needed_corrections.to_html(escape=False)))"
   ]
  },
  {
   "cell_type": "markdown",
   "id": "efba81ac",
   "metadata": {},
   "source": [
    "### Produce output files\n",
    "\n"
   ]
  },
  {
   "cell_type": "markdown",
   "id": "06c9fada",
   "metadata": {},
   "source": [
    "#### Create mergeable version\n",
    "\n",
    "Produces a merge file to work with a merge editor. If you're brave, you can also set `is_override` to true to merge the suggestions of the LLM directly into the original file.\n",
    "\n",
    "Tip: Overriding only should be enabled if both sections of the translations are almost structurally identically because otherwise it leads to complete chaos!\n",
    "\n",
    "**Warning: Before setting it to True, make sure that you committed your local changes! Good luck!**"
   ]
  },
  {
   "cell_type": "code",
   "execution_count": 67,
   "id": "bac9ed7a",
   "metadata": {},
   "outputs": [
    {
     "name": "stdout",
     "output_type": "stream",
     "text": [
      "Merge-style corrected file saved as ../docs/00b-basics/02-curriculum-structure-and-chronological-breakdown_merge.adoc\n",
      "Merge-style corrected file saved as ../docs/00b-basics/03-timing-didactics-and-more_merge.adoc\n",
      "Merge-style corrected file saved as ../docs/04-planning/01-duration-terms_merge.adoc\n"
     ]
    },
    {
     "ename": "ValueError",
     "evalue": "cannot convert float NaN to integer",
     "output_type": "error",
     "traceback": [
      "\u001b[0;31m---------------------------------------------------------------------------\u001b[0m",
      "\u001b[0;31mValueError\u001b[0m                                Traceback (most recent call last)",
      "\u001b[0;32m/tmp/ipykernel_1081/3465667834.py\u001b[0m in \u001b[0;36m<module>\u001b[0;34m\u001b[0m\n\u001b[1;32m     12\u001b[0m     \u001b[0;32mfor\u001b[0m \u001b[0mindex\u001b[0m\u001b[0;34m,\u001b[0m \u001b[0mrow\u001b[0m \u001b[0;32min\u001b[0m \u001b[0mgroup\u001b[0m\u001b[0;34m.\u001b[0m\u001b[0miterrows\u001b[0m\u001b[0;34m(\u001b[0m\u001b[0;34m)\u001b[0m\u001b[0;34m:\u001b[0m\u001b[0;34m\u001b[0m\u001b[0;34m\u001b[0m\u001b[0m\n\u001b[1;32m     13\u001b[0m         \u001b[0;32mif\u001b[0m \u001b[0mrow\u001b[0m\u001b[0;34m[\u001b[0m\u001b[0;34m'corrected_text_en'\u001b[0m\u001b[0;34m]\u001b[0m\u001b[0;34m:\u001b[0m  \u001b[0;31m# Check if corrected_text_en is not empty\u001b[0m\u001b[0;34m\u001b[0m\u001b[0;34m\u001b[0m\u001b[0m\n\u001b[0;32m---> 14\u001b[0;31m             \u001b[0mline_number\u001b[0m \u001b[0;34m=\u001b[0m \u001b[0mint\u001b[0m\u001b[0;34m(\u001b[0m\u001b[0mrow\u001b[0m\u001b[0;34m[\u001b[0m\u001b[0;34m'line_EN'\u001b[0m\u001b[0;34m]\u001b[0m\u001b[0;34m)\u001b[0m \u001b[0;34m-\u001b[0m \u001b[0;36m1\u001b[0m  \u001b[0;31m# Convert to zero-based index\u001b[0m\u001b[0;34m\u001b[0m\u001b[0;34m\u001b[0m\u001b[0m\n\u001b[0m\u001b[1;32m     15\u001b[0m             \u001b[0;31m# Insert merge-style corrections\u001b[0m\u001b[0;34m\u001b[0m\u001b[0;34m\u001b[0m\u001b[0m\n\u001b[1;32m     16\u001b[0m             lines[line_number] = (\n",
      "\u001b[0;31mValueError\u001b[0m: cannot convert float NaN to integer"
     ]
    }
   ],
   "source": [
    "# flag for setting the override of the original file\n",
    "is_override = False\n",
    "\n",
    "# Group correctiony for each file to process each file only once\n",
    "for filename, group in needed_corrections.groupby('filename'):\n",
    "    # Open the file once for reading\n",
    "    with open(filename, 'r') as file:\n",
    "        lines = file.readlines()\n",
    "\n",
    "    # Modify the relevant lines in memory\n",
    "    modified = False\n",
    "    for index, row in group.iterrows():\n",
    "        if row['corrected_text_en']:  # Check if corrected_text_en is not empty\n",
    "            line_number = int(row['line_EN']) - 1  # Convert to zero-based index\n",
    "            # Insert merge-style corrections\n",
    "            lines[line_number] = (\n",
    "                f\"<<<<<<< ORIGINAL\\n{lines[line_number]}\"\n",
    "                f\"=======\\n{row['corrected_text_en']}\\n\"\n",
    "                f\">>>>>>> CORRECTED | German text: \\'{row['text_DE']}\\' (Line {int(row['line_DE'])}) | Assessment: {row['assessment']}\\n\"\n",
    "            )\n",
    "            modified = True  # Mark as modified since we are replacing the line\n",
    "\n",
    "    # Write the updated content to a new file ending with '_merge.adoc'\n",
    "    if modified:\n",
    "        new_filename = filename if is_override else filename.replace('.adoc', '_merge.adoc')\n",
    "        with open(new_filename, 'w') as file:\n",
    "            file.writelines(lines)\n",
    "\n",
    "        print(f\"Merge-style corrected file saved as {new_filename}\")"
   ]
  },
  {
   "cell_type": "markdown",
   "id": "b1c8b4d0",
   "metadata": {},
   "source": [
    "#### Create diffable version\n",
    "Version that produces a separate file to work with a diff editor. It's disabled by default via the `is_active` flag because the mergable version is way better (IMHO)."
   ]
  },
  {
   "cell_type": "code",
   "execution_count": null,
   "id": "f3a6715e",
   "metadata": {},
   "outputs": [],
   "source": [
    "# this is just a flag to set this block active or not\n",
    "is_active = False\n",
    "\n",
    "# Group by 'filename' to process each file only once\n",
    "for filename, group in needed_corrections.groupby('filename'):\n",
    "    # Open the file once for reading\n",
    "    with open(filename, 'r') as file:\n",
    "        lines = file.readlines()\n",
    "\n",
    "    # Modify the relevant lines in memory\n",
    "    modified = False\n",
    "    for index, row in group.iterrows():\n",
    "        line_number = int(row['line_EN']) - 1  # Convert to zero-based index\n",
    "        lines[line_number] = row['corrected_text_en'] + '\\n'\n",
    "        modified = True  # Mark as modified since we are replacing the line\n",
    "\n",
    "    # Write the updated content to a new file ending with '_corrected.adoc'\n",
    "    if modified and is_active:\n",
    "        new_filename = filename.replace('.adoc', '_aicorrected.adoc')\n",
    "        with open(new_filename, 'w') as file:\n",
    "            file.writelines(lines)"
   ]
  },
  {
   "cell_type": "markdown",
   "id": "abaa63e2",
   "metadata": {},
   "source": [
    "## Summary\n",
    "\n",
    "Happy correcting!\n",
    "\n",
    "Markus Harrer, October 2024"
   ]
  }
 ],
 "metadata": {
  "kernelspec": {
   "display_name": "Python 3",
   "language": "python",
   "name": "python3"
  },
  "language_info": {
   "codemirror_mode": {
    "name": "ipython",
    "version": 3
   },
   "file_extension": ".py",
   "mimetype": "text/x-python",
   "name": "python",
   "nbconvert_exporter": "python",
   "pygments_lexer": "ipython3",
   "version": "3.11.10"
  }
 },
 "nbformat": 4,
 "nbformat_minor": 5
}
